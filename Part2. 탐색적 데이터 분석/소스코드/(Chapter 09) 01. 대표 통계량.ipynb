{
 "cells": [
  {
   "cell_type": "code",
   "execution_count": 1,
   "metadata": {},
   "outputs": [],
   "source": [
    "import numpy as np\n",
    "from scipy.stats import * # 다 가져와라ㅏ\n",
    "import pandas as pd\n",
    "from matplotlib import pyplot as plt\n",
    "%matplotlib inline\n",
    "plt.rcParams[\"font.family\"] = 'Malgun Gothic'\n",
    "plt.rcParams[\"font.size\"] = 20\n",
    "plt.rcParams[\"figure.figsize\"] = (40, 15)"
   ]
  },
  {
   "cell_type": "markdown",
   "metadata": {},
   "source": [
    "#### 산술 평균 계산\n",
    "- 이진 변수에 대한 산술 평균은 1의 비율과 같다. \n",
    "- 다른 관측치에 비해 이상치에 민감하다. "
   ]
  },
  {
   "cell_type": "code",
   "execution_count": 2,
   "metadata": {},
   "outputs": [
    {
     "name": "stdout",
     "output_type": "stream",
     "text": [
      "3.0\n",
      "3.0\n",
      "3.0\n"
     ]
    }
   ],
   "source": [
    "x = [1, 2, 3, 4, 5]\n",
    "print(np.mean(x))\n",
    "print(np.array(x).mean()) # array화\n",
    "print(pd.Series(x).mean()) #series화"
   ]
  },
  {
   "cell_type": "code",
   "execution_count": 3,
   "metadata": {},
   "outputs": [
    {
     "name": "stdout",
     "output_type": "stream",
     "text": [
      "0.4\n"
     ]
    }
   ],
   "source": [
    "# 이진 변수에 대한 평균\n",
    "x = [1, 0, 0, 0, 1]\n",
    "print(np.mean(x))  # 1의 비율 값과 같다."
   ]
  },
  {
   "attachments": {
    "6c1b0980-d4e0-4d18-a5b6-68f8afc8754d.png": {
     "image/png": "[encoded data removed]"
    }
   },
   "cell_type": "markdown",
   "metadata": {},
   "source": [
    "#### 조화 평균\n",
    "- 재현율과 정밀도 계산시 사용. \n",
    "- 주어진 수들의 역수의 산술평균의 역수를 말한다. 평균적인 변화율을 구할 때에 주로 사용된다. \n",
    "- ![image.png](attachment:6c1b0980-d4e0-4d18-a5b6-68f8afc8754d.png)\n",
    "- 전체 거리의 절반을 40km/h 속도로 달리고 남은 절반을 60km/h로 달렸다면, 평균 속력은 40과 60의 조화평균인 48km/h가 된다. "
   ]
  },
  {
   "cell_type": "code",
   "execution_count": 4,
   "metadata": {},
   "outputs": [
    {
     "name": "stdout",
     "output_type": "stream",
     "text": [
      "0.21897810218978103\n",
      "0.21897810218978103\n"
     ]
    }
   ],
   "source": [
    "x = np.array([0.1, 0.2, 0.3, 0.4, 0.5])\n",
    "print(len(x) / np.sum(1/x))  # 직관적으로 수식을 그대로 옮김\n",
    "print(hmean(x))  # 비율과 비의 평균"
   ]
  },
  {
   "cell_type": "markdown",
   "metadata": {},
   "source": [
    "#### 절사 평균이 필요한 이유\n",
    "- 이상치의 영향을 없애고 싶기 때문에\n",
    "- a 설정의 어려움이 있다. "
   ]
  },
  {
   "cell_type": "code",
   "execution_count": 10,
   "metadata": {},
   "outputs": [
    {
     "name": "stdout",
     "output_type": "stream",
     "text": [
      "2027140.448037034\n"
     ]
    }
   ],
   "source": [
    "income = np.random.normal(2000000, 500000, 100) # 평균이 2백만원이고 표준편차가 50만원인 정규 분포를 따르는 소득을 갖는 100명 생성\n",
    "print(np.mean(income))"
   ]
  },
  {
   "cell_type": "code",
   "execution_count": 11,
   "metadata": {},
   "outputs": [
    {
     "name": "stdout",
     "output_type": "stream",
     "text": [
      "11908059.849541618\n"
     ]
    }
   ],
   "source": [
    "income = np.append(income, 10**9) # 소득이 10억원인 사람의 등장\n",
    "\n",
    "print(np.mean(income)) # 100명의 소득이 200만원에 가까운데, 한 명 때문에 대표값인 평균이 1200만원에 달함\n"
   ]
  },
  {
   "cell_type": "markdown",
   "metadata": {},
   "source": [
    "#### 절사 평균 계산"
   ]
  },
  {
   "cell_type": "code",
   "execution_count": 7,
   "metadata": {},
   "outputs": [
    {
     "data": {
      "text/plain": [
       "2042987.8861442045"
      ]
     },
     "execution_count": 7,
     "metadata": {},
     "output_type": "execute_result"
    }
   ],
   "source": [
    "trim_mean(income, 0.2) # [20% ~ 80%]  # 소득에 대한 평균도 마찬가지다. "
   ]
  },
  {
   "cell_type": "markdown",
   "metadata": {},
   "source": [
    "#### 최빈값 계산\n",
    "- 연속형 변수에서는 크게 의미가 없다. \n",
    "- scipy.stats 사용함. series화 하여 value_counts를 이용할수 있지만, 최빈값이 두개 이상인 경우는 사용이 불가능하다. "
   ]
  },
  {
   "cell_type": "code",
   "execution_count": 9,
   "metadata": {},
   "outputs": [
    {
     "data": {
      "text/plain": [
       "array(['B', 'C', 'C', 'C', 'A', 'A', 'A', 'A', 'C', 'C'], dtype='<U1')"
      ]
     },
     "execution_count": 9,
     "metadata": {},
     "output_type": "execute_result"
    }
   ],
   "source": [
    "x = np.random.choice(['A', 'B', 'C'], 1000) # A, B, C라는 요소로 구성\n",
    "x[:10]"
   ]
  },
  {
   "cell_type": "code",
   "execution_count": 10,
   "metadata": {},
   "outputs": [
    {
     "data": {
      "text/plain": [
       "ModeResult(mode=array(['C'], dtype='<U1'), count=array([351]))"
      ]
     },
     "execution_count": 10,
     "metadata": {},
     "output_type": "execute_result"
    }
   ],
   "source": [
    "mode(x) # [0]: 최빈값, [1]: 빈도"
   ]
  },
  {
   "cell_type": "code",
   "execution_count": 12,
   "metadata": {},
   "outputs": [
    {
     "data": {
      "text/plain": [
       "'C'"
      ]
     },
     "execution_count": 12,
     "metadata": {},
     "output_type": "execute_result"
    }
   ],
   "source": [
    "pd.Series(x).value_counts().index[0] # 맨 앞에 있는 것이 최빈 값"
   ]
  }
 ],
 "metadata": {
  "kernelspec": {
   "display_name": "Python 3",
   "language": "python",
   "name": "python3"
  },
  "language_info": {
   "codemirror_mode": {
    "name": "ipython",
    "version": 3
   },
   "file_extension": ".py",
   "mimetype": "text/x-python",
   "name": "python",
   "nbconvert_exporter": "python",
   "pygments_lexer": "ipython3",
   "version": "3.8.5"
  }
 },
 "nbformat": 4,
 "nbformat_minor": 4
}
