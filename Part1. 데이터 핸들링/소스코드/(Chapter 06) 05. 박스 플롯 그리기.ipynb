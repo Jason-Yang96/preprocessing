{
 "cells": [
  {
   "cell_type": "code",
   "execution_count": 13,
   "metadata": {},
   "outputs": [],
   "source": [
    "import os\n",
    "import pandas as pd\n",
    "os.chdir(r\"C:\\Users\\user\\jupyter\\python\\preprocessing\\데이터\")"
   ]
  },
  {
   "cell_type": "code",
   "execution_count": 14,
   "metadata": {},
   "outputs": [
    {
     "data": {
      "text/html": [
       "<div>\n",
       "<style scoped>\n",
       "    .dataframe tbody tr th:only-of-type {\n",
       "        vertical-align: middle;\n",
       "    }\n",
       "\n",
       "    .dataframe tbody tr th {\n",
       "        vertical-align: top;\n",
       "    }\n",
       "\n",
       "    .dataframe thead th {\n",
       "        text-align: right;\n",
       "    }\n",
       "</style>\n",
       "<table border=\"1\" class=\"dataframe\">\n",
       "  <thead>\n",
       "    <tr style=\"text-align: right;\">\n",
       "      <th></th>\n",
       "      <th>쇼핑몰</th>\n",
       "      <th>제품</th>\n",
       "      <th>수량</th>\n",
       "      <th>판매금액</th>\n",
       "      <th>쇼핑몰 유형</th>\n",
       "    </tr>\n",
       "  </thead>\n",
       "  <tbody>\n",
       "    <tr>\n",
       "      <th>0</th>\n",
       "      <td>쿠팡</td>\n",
       "      <td>제품_16</td>\n",
       "      <td>8</td>\n",
       "      <td>1134400</td>\n",
       "      <td>쿠팡</td>\n",
       "    </tr>\n",
       "    <tr>\n",
       "      <th>1</th>\n",
       "      <td>쿠팡</td>\n",
       "      <td>제품_57</td>\n",
       "      <td>8</td>\n",
       "      <td>439200</td>\n",
       "      <td>쿠팡</td>\n",
       "    </tr>\n",
       "    <tr>\n",
       "      <th>2</th>\n",
       "      <td>쿠팡</td>\n",
       "      <td>제품_25</td>\n",
       "      <td>4</td>\n",
       "      <td>495200</td>\n",
       "      <td>쿠팡</td>\n",
       "    </tr>\n",
       "    <tr>\n",
       "      <th>3</th>\n",
       "      <td>쿠팡</td>\n",
       "      <td>제품_18</td>\n",
       "      <td>4</td>\n",
       "      <td>578000</td>\n",
       "      <td>쿠팡</td>\n",
       "    </tr>\n",
       "    <tr>\n",
       "      <th>4</th>\n",
       "      <td>쿠팡</td>\n",
       "      <td>제품_90</td>\n",
       "      <td>2</td>\n",
       "      <td>75000</td>\n",
       "      <td>쿠팡</td>\n",
       "    </tr>\n",
       "  </tbody>\n",
       "</table>\n",
       "</div>"
      ],
      "text/plain": [
       "  쇼핑몰     제품  수량     판매금액 쇼핑몰 유형\n",
       "0  쿠팡  제품_16   8  1134400     쿠팡\n",
       "1  쿠팡  제품_57   8   439200     쿠팡\n",
       "2  쿠팡  제품_25   4   495200     쿠팡\n",
       "3  쿠팡  제품_18   4   578000     쿠팡\n",
       "4  쿠팡  제품_90   2    75000     쿠팡"
      ]
     },
     "execution_count": 14,
     "metadata": {},
     "output_type": "execute_result"
    }
   ],
   "source": [
    "df = pd.read_csv(\"온라인_판매기록.csv\", engine = \"python\")\n",
    "df.head()"
   ]
  },
  {
   "cell_type": "code",
   "execution_count": 19,
   "metadata": {},
   "outputs": [],
   "source": [
    "# 그래프 기본 설정\n",
    "from matplotlib import pyplot as plt\n",
    "import numpy as np\n",
    "%matplotlib inline\n",
    "plt.rcParams[\"font.family\"] = 'Malgun Gothic'\n",
    "plt.rcParams[\"font.size\"] = 15\n",
    "plt.rcParams[\"figure.figsize\"] = (10, 6)"
   ]
  },
  {
   "cell_type": "code",
   "execution_count": 17,
   "metadata": {},
   "outputs": [
    {
     "data": {
      "text/plain": [
       "쇼핑몰 유형\n",
       "동물병원      439390.844444\n",
       "온라인II     475726.428571\n",
       "온라인사이트    454746.019417\n",
       "유통대리점     462627.384615\n",
       "전시회       447135.051546\n",
       "쿠팡        433447.802198\n",
       "할인점       427162.295082\n",
       "할인점II     440754.782609\n",
       "Name: 판매금액, dtype: float64"
      ]
     },
     "execution_count": 17,
     "metadata": {},
     "output_type": "execute_result"
    }
   ],
   "source": [
    "df.groupby(['쇼핑몰 유형'])['판매금액'].mean()\n"
   ]
  },
  {
   "cell_type": "code",
   "execution_count": 9,
   "metadata": {},
   "outputs": [
    {
     "data": {
      "text/plain": [
       "Index(['동물병원', '온라인II', '온라인사이트', '유통대리점', '전시회', '쿠팡', '할인점', '할인점II'], dtype='object', name='쇼핑몰 유형')"
      ]
     },
     "execution_count": 9,
     "metadata": {},
     "output_type": "execute_result"
    }
   ],
   "source": [
    "# pyplot을 이용한 boxplot 그리기\n",
    "X = df.groupby(['쇼핑몰 유형'])['판매금액'].apply(list) # 쇼핑몰 유형에 따른 판매 금액 목록을 리스트화\n",
    "len(X)\n",
    "X.index"
   ]
  },
  {
   "cell_type": "code",
   "execution_count": 18,
   "metadata": {},
   "outputs": [
    {
     "data": {
      "text/plain": [
       "([<matplotlib.axis.XTick at 0x1f1933dd2b0>,\n",
       "  <matplotlib.axis.XTick at 0x1f1933dd280>,\n",
       "  <matplotlib.axis.XTick at 0x1f193193250>,\n",
       "  <matplotlib.axis.XTick at 0x1f1935cfca0>,\n",
       "  <matplotlib.axis.XTick at 0x1f1934371f0>,\n",
       "  <matplotlib.axis.XTick at 0x1f193437700>,\n",
       "  <matplotlib.axis.XTick at 0x1f193437c10>,\n",
       "  <matplotlib.axis.XTick at 0x1f19342b160>],\n",
       " [Text(1, 0, '동물병원'),\n",
       "  Text(2, 0, '온라인II'),\n",
       "  Text(3, 0, '온라인사이트'),\n",
       "  Text(4, 0, '유통대리점'),\n",
       "  Text(5, 0, '전시회'),\n",
       "  Text(6, 0, '쿠팡'),\n",
       "  Text(7, 0, '할인점'),\n",
       "  Text(8, 0, '할인점II')])"
      ]
     },
     "execution_count": 18,
     "metadata": {},
     "output_type": "execute_result"
    },
    {
     "data": {
      "image/png": "[encoded data removed]",
      "text/plain": [
       "<Figure size 1080x576 with 1 Axes>"
      ]
     },
     "metadata": {
      "needs_background": "light"
     },
     "output_type": "display_data"
    }
   ],
   "source": [
    "plt.title(\"쇼핑몰 유형에 따른 판매금액 분포\")\n",
    "plt.boxplot(X.values)\n",
    "plt.xticks(np.arange(1, len(X)+1), X.index, rotation = 30)"
   ]
  },
  {
   "cell_type": "code",
   "execution_count": 10,
   "metadata": {},
   "outputs": [
    {
     "data": {
      "text/plain": [
       "(100, 3)"
      ]
     },
     "execution_count": 10,
     "metadata": {},
     "output_type": "execute_result"
    }
   ],
   "source": [
    "# DataFrame method를 이용한 boxplot 그리기\n",
    "df = pd.DataFrame({\"실험1\": np.random.normal(10, 2, size = 100),\n",
    "                  \"실험2\": np.random.normal(8, 3, size = 100),\n",
    "                  \"실험3\": np.random.normal(9, 4, size = 100)})\n",
    "\n",
    "df.shape"
   ]
  },
  {
   "cell_type": "code",
   "execution_count": 11,
   "metadata": {},
   "outputs": [
    {
     "data": {
      "text/plain": [
       "<matplotlib.axes._subplots.AxesSubplot at 0x24711b67908>"
      ]
     },
     "execution_count": 11,
     "metadata": {},
     "output_type": "execute_result"
    },
    {
     "name": "stderr",
     "output_type": "stream",
     "text": [
      "C:\\Users\\Gilseung\\Anaconda3\\lib\\site-packages\\matplotlib\\backends\\backend_agg.py:211: RuntimeWarning: Glyph 8722 missing from current font.\n",
      "  font.set_text(s, 0.0, flags=flags)\n",
      "C:\\Users\\Gilseung\\Anaconda3\\lib\\site-packages\\matplotlib\\backends\\backend_agg.py:180: RuntimeWarning: Glyph 8722 missing from current font.\n",
      "  font.set_text(s, 0, flags=flags)\n"
     ]
    },
    {
     "data": {
      "image/png": "[encoded data removed]",
      "text/plain": [
       "<Figure size 432x288 with 1 Axes>"
      ]
     },
     "metadata": {},
     "output_type": "display_data"
    }
   ],
   "source": [
    "df.boxplot(column = ['실험1', '실험2', '실험3'])"
   ]
  }
 ],
 "metadata": {
  "kernelspec": {
   "display_name": "Python 3",
   "language": "python",
   "name": "python3"
  },
  "language_info": {
   "codemirror_mode": {
    "name": "ipython",
    "version": 3
   },
   "file_extension": ".py",
   "mimetype": "text/x-python",
   "name": "python",
   "nbconvert_exporter": "python",
   "pygments_lexer": "ipython3",
   "version": "3.8.5"
  }
 },
 "nbformat": 4,
 "nbformat_minor": 4
}
