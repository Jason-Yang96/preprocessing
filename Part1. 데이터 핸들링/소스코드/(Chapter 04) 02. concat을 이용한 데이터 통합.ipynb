{
 "cells": [
  {
   "cell_type": "code",
   "execution_count": 1,
   "metadata": {},
   "outputs": [],
   "source": [
    "import os\n",
    "import pandas as pd\n",
    "os.chdir(r\"C:\\Users\\user\\jupyter\\python\\preprocessing\\데이터\")"
   ]
  },
  {
   "cell_type": "markdown",
   "metadata": {},
   "source": [
    "#### concat 기초"
   ]
  },
  {
   "cell_type": "code",
   "execution_count": 2,
   "metadata": {},
   "outputs": [
    {
     "data": {
      "text/html": [
       "<div>\n",
       "<style scoped>\n",
       "    .dataframe tbody tr th:only-of-type {\n",
       "        vertical-align: middle;\n",
       "    }\n",
       "\n",
       "    .dataframe tbody tr th {\n",
       "        vertical-align: top;\n",
       "    }\n",
       "\n",
       "    .dataframe thead th {\n",
       "        text-align: right;\n",
       "    }\n",
       "</style>\n",
       "<table border=\"1\" class=\"dataframe\">\n",
       "  <thead>\n",
       "    <tr style=\"text-align: right;\">\n",
       "      <th></th>\n",
       "      <th>A</th>\n",
       "      <th>B</th>\n",
       "    </tr>\n",
       "  </thead>\n",
       "  <tbody>\n",
       "    <tr>\n",
       "      <th>0</th>\n",
       "      <td>1</td>\n",
       "      <td>1</td>\n",
       "    </tr>\n",
       "    <tr>\n",
       "      <th>1</th>\n",
       "      <td>2</td>\n",
       "      <td>2</td>\n",
       "    </tr>\n",
       "    <tr>\n",
       "      <th>2</th>\n",
       "      <td>3</td>\n",
       "      <td>3</td>\n",
       "    </tr>\n",
       "    <tr>\n",
       "      <th>3</th>\n",
       "      <td>4</td>\n",
       "      <td>4</td>\n",
       "    </tr>\n",
       "    <tr>\n",
       "      <th>4</th>\n",
       "      <td>5</td>\n",
       "      <td>5</td>\n",
       "    </tr>\n",
       "    <tr>\n",
       "      <th>5</th>\n",
       "      <td>6</td>\n",
       "      <td>6</td>\n",
       "    </tr>\n",
       "    <tr>\n",
       "      <th>6</th>\n",
       "      <td>7</td>\n",
       "      <td>7</td>\n",
       "    </tr>\n",
       "    <tr>\n",
       "      <th>7</th>\n",
       "      <td>8</td>\n",
       "      <td>8</td>\n",
       "    </tr>\n",
       "  </tbody>\n",
       "</table>\n",
       "</div>"
      ],
      "text/plain": [
       "   A  B\n",
       "0  1  1\n",
       "1  2  2\n",
       "2  3  3\n",
       "3  4  4\n",
       "4  5  5\n",
       "5  6  6\n",
       "6  7  7\n",
       "7  8  8"
      ]
     },
     "execution_count": 2,
     "metadata": {},
     "output_type": "execute_result"
    }
   ],
   "source": [
    "df1 = pd.DataFrame({\"A\":[1,2,3,4], \"B\":[1,2,3,4]})\n",
    "df2 = pd.DataFrame({\"A\":[5,6,7,8], \"B\":[5,6,7,8]})\n",
    "\n",
    "merged_df = pd.concat([df1, df2], axis = 0, ignore_index = True)\n",
    "merged_df"
   ]
  },
  {
   "cell_type": "code",
   "execution_count": 3,
   "metadata": {},
   "outputs": [
    {
     "data": {
      "text/html": [
       "<div>\n",
       "<style scoped>\n",
       "    .dataframe tbody tr th:only-of-type {\n",
       "        vertical-align: middle;\n",
       "    }\n",
       "\n",
       "    .dataframe tbody tr th {\n",
       "        vertical-align: top;\n",
       "    }\n",
       "\n",
       "    .dataframe thead th {\n",
       "        text-align: right;\n",
       "    }\n",
       "</style>\n",
       "<table border=\"1\" class=\"dataframe\">\n",
       "  <thead>\n",
       "    <tr style=\"text-align: right;\">\n",
       "      <th></th>\n",
       "      <th>A</th>\n",
       "      <th>B</th>\n",
       "      <th>C</th>\n",
       "      <th>D</th>\n",
       "    </tr>\n",
       "  </thead>\n",
       "  <tbody>\n",
       "    <tr>\n",
       "      <th>0</th>\n",
       "      <td>1</td>\n",
       "      <td>5</td>\n",
       "      <td>1</td>\n",
       "      <td>5</td>\n",
       "    </tr>\n",
       "    <tr>\n",
       "      <th>1</th>\n",
       "      <td>2</td>\n",
       "      <td>6</td>\n",
       "      <td>2</td>\n",
       "      <td>6</td>\n",
       "    </tr>\n",
       "    <tr>\n",
       "      <th>2</th>\n",
       "      <td>3</td>\n",
       "      <td>7</td>\n",
       "      <td>3</td>\n",
       "      <td>7</td>\n",
       "    </tr>\n",
       "    <tr>\n",
       "      <th>3</th>\n",
       "      <td>4</td>\n",
       "      <td>8</td>\n",
       "      <td>4</td>\n",
       "      <td>8</td>\n",
       "    </tr>\n",
       "  </tbody>\n",
       "</table>\n",
       "</div>"
      ],
      "text/plain": [
       "   A  B  C  D\n",
       "0  1  5  1  5\n",
       "1  2  6  2  6\n",
       "2  3  7  3  7\n",
       "3  4  8  4  8"
      ]
     },
     "execution_count": 3,
     "metadata": {},
     "output_type": "execute_result"
    }
   ],
   "source": [
    "df1 = pd.DataFrame({\"A\":[1,2,3,4], \"B\":[5,6,7,8]})\n",
    "df2 = pd.DataFrame({\"C\":[1,2,3,4], \"D\":[5,6,7,8]})\n",
    "\n",
    "merged_df = pd.concat([df1, df2], axis = 1, ignore_index = False)\n",
    "merged_df"
   ]
  },
  {
   "cell_type": "markdown",
   "metadata": {},
   "source": [
    "#### concat을 이용한 여러 csv 파일 합치기"
   ]
  },
  {
   "cell_type": "code",
   "execution_count": 4,
   "metadata": {},
   "outputs": [],
   "source": [
    "df1 = pd.read_csv(\"일별 오염 데이터/2004-03-14_오염_수준.txt\", sep = \"\\t\", engine = \"python\")\n",
    "df2 = pd.read_csv(\"일별 오염 데이터/2004-03-20_오염_수준.txt\", sep = \"\\t\", engine = \"python\")"
   ]
  },
  {
   "cell_type": "code",
   "execution_count": 5,
   "metadata": {},
   "outputs": [
    {
     "data": {
      "text/html": [
       "<div>\n",
       "<style scoped>\n",
       "    .dataframe tbody tr th:only-of-type {\n",
       "        vertical-align: middle;\n",
       "    }\n",
       "\n",
       "    .dataframe tbody tr th {\n",
       "        vertical-align: top;\n",
       "    }\n",
       "\n",
       "    .dataframe thead th {\n",
       "        text-align: right;\n",
       "    }\n",
       "</style>\n",
       "<table border=\"1\" class=\"dataframe\">\n",
       "  <thead>\n",
       "    <tr style=\"text-align: right;\">\n",
       "      <th></th>\n",
       "      <th>Date</th>\n",
       "      <th>Time</th>\n",
       "      <th>CO(GT)</th>\n",
       "      <th>PT08.S1(CO)</th>\n",
       "      <th>NMHC(GT)</th>\n",
       "      <th>C6H6(GT)</th>\n",
       "      <th>PT08.S2(NMHC)</th>\n",
       "      <th>NOx(GT)</th>\n",
       "      <th>PT08.S3(NOx)</th>\n",
       "      <th>NO2(GT)</th>\n",
       "      <th>PT08.S4(NO2)</th>\n",
       "      <th>PT08.S5(O3)</th>\n",
       "      <th>T</th>\n",
       "      <th>RH</th>\n",
       "      <th>AH</th>\n",
       "    </tr>\n",
       "  </thead>\n",
       "  <tbody>\n",
       "    <tr>\n",
       "      <th>0</th>\n",
       "      <td>2004-03-14</td>\n",
       "      <td>00:00:00</td>\n",
       "      <td>2.9</td>\n",
       "      <td>1533.50</td>\n",
       "      <td>93.0</td>\n",
       "      <td>10.963458</td>\n",
       "      <td>1013.00</td>\n",
       "      <td>190.0</td>\n",
       "      <td>888.50</td>\n",
       "      <td>129.0</td>\n",
       "      <td>1610.75</td>\n",
       "      <td>1534.75</td>\n",
       "      <td>13.95</td>\n",
       "      <td>53.600000</td>\n",
       "      <td>0.849772</td>\n",
       "    </tr>\n",
       "    <tr>\n",
       "      <th>1</th>\n",
       "      <td>2004-03-14</td>\n",
       "      <td>01:00:00</td>\n",
       "      <td>2.8</td>\n",
       "      <td>1483.50</td>\n",
       "      <td>131.0</td>\n",
       "      <td>11.860179</td>\n",
       "      <td>1044.75</td>\n",
       "      <td>174.0</td>\n",
       "      <td>879.75</td>\n",
       "      <td>119.0</td>\n",
       "      <td>1624.25</td>\n",
       "      <td>1529.75</td>\n",
       "      <td>14.65</td>\n",
       "      <td>51.500000</td>\n",
       "      <td>0.853623</td>\n",
       "    </tr>\n",
       "    <tr>\n",
       "      <th>2</th>\n",
       "      <td>2004-03-14</td>\n",
       "      <td>02:00:00</td>\n",
       "      <td>2.5</td>\n",
       "      <td>1366.75</td>\n",
       "      <td>92.0</td>\n",
       "      <td>8.624679</td>\n",
       "      <td>924.50</td>\n",
       "      <td>128.0</td>\n",
       "      <td>952.50</td>\n",
       "      <td>104.0</td>\n",
       "      <td>1543.00</td>\n",
       "      <td>1337.00</td>\n",
       "      <td>12.55</td>\n",
       "      <td>58.900001</td>\n",
       "      <td>0.853740</td>\n",
       "    </tr>\n",
       "    <tr>\n",
       "      <th>3</th>\n",
       "      <td>2004-03-14</td>\n",
       "      <td>03:00:00</td>\n",
       "      <td>2.4</td>\n",
       "      <td>1344.00</td>\n",
       "      <td>132.0</td>\n",
       "      <td>9.737786</td>\n",
       "      <td>967.75</td>\n",
       "      <td>-200.0</td>\n",
       "      <td>920.50</td>\n",
       "      <td>-200.0</td>\n",
       "      <td>1619.75</td>\n",
       "      <td>1278.25</td>\n",
       "      <td>11.65</td>\n",
       "      <td>63.425000</td>\n",
       "      <td>0.867449</td>\n",
       "    </tr>\n",
       "    <tr>\n",
       "      <th>4</th>\n",
       "      <td>2004-03-14</td>\n",
       "      <td>04:00:00</td>\n",
       "      <td>-200.0</td>\n",
       "      <td>1129.50</td>\n",
       "      <td>56.0</td>\n",
       "      <td>5.191654</td>\n",
       "      <td>773.00</td>\n",
       "      <td>70.0</td>\n",
       "      <td>1130.25</td>\n",
       "      <td>82.0</td>\n",
       "      <td>1451.75</td>\n",
       "      <td>1050.50</td>\n",
       "      <td>12.10</td>\n",
       "      <td>61.100001</td>\n",
       "      <td>0.860316</td>\n",
       "    </tr>\n",
       "  </tbody>\n",
       "</table>\n",
       "</div>"
      ],
      "text/plain": [
       "         Date      Time  CO(GT)  PT08.S1(CO)  NMHC(GT)   C6H6(GT)  \\\n",
       "0  2004-03-14  00:00:00     2.9      1533.50      93.0  10.963458   \n",
       "1  2004-03-14  01:00:00     2.8      1483.50     131.0  11.860179   \n",
       "2  2004-03-14  02:00:00     2.5      1366.75      92.0   8.624679   \n",
       "3  2004-03-14  03:00:00     2.4      1344.00     132.0   9.737786   \n",
       "4  2004-03-14  04:00:00  -200.0      1129.50      56.0   5.191654   \n",
       "\n",
       "   PT08.S2(NMHC)  NOx(GT)  PT08.S3(NOx)  NO2(GT)  PT08.S4(NO2)  PT08.S5(O3)  \\\n",
       "0        1013.00    190.0        888.50    129.0       1610.75      1534.75   \n",
       "1        1044.75    174.0        879.75    119.0       1624.25      1529.75   \n",
       "2         924.50    128.0        952.50    104.0       1543.00      1337.00   \n",
       "3         967.75   -200.0        920.50   -200.0       1619.75      1278.25   \n",
       "4         773.00     70.0       1130.25     82.0       1451.75      1050.50   \n",
       "\n",
       "       T         RH        AH  \n",
       "0  13.95  53.600000  0.849772  \n",
       "1  14.65  51.500000  0.853623  \n",
       "2  12.55  58.900001  0.853740  \n",
       "3  11.65  63.425000  0.867449  \n",
       "4  12.10  61.100001  0.860316  "
      ]
     },
     "execution_count": 5,
     "metadata": {},
     "output_type": "execute_result"
    }
   ],
   "source": [
    "df1.head() # 합쳐야 하는 데이터 구조"
   ]
  },
  {
   "cell_type": "code",
   "execution_count": 6,
   "metadata": {},
   "outputs": [
    {
     "data": {
      "text/html": [
       "<div>\n",
       "<style scoped>\n",
       "    .dataframe tbody tr th:only-of-type {\n",
       "        vertical-align: middle;\n",
       "    }\n",
       "\n",
       "    .dataframe tbody tr th {\n",
       "        vertical-align: top;\n",
       "    }\n",
       "\n",
       "    .dataframe thead th {\n",
       "        text-align: right;\n",
       "    }\n",
       "</style>\n",
       "<table border=\"1\" class=\"dataframe\">\n",
       "  <thead>\n",
       "    <tr style=\"text-align: right;\">\n",
       "      <th></th>\n",
       "      <th>Date</th>\n",
       "      <th>Time</th>\n",
       "      <th>CO(GT)</th>\n",
       "      <th>PT08.S1(CO)</th>\n",
       "      <th>NMHC(GT)</th>\n",
       "      <th>C6H6(GT)</th>\n",
       "      <th>PT08.S2(NMHC)</th>\n",
       "      <th>NOx(GT)</th>\n",
       "      <th>PT08.S3(NOx)</th>\n",
       "      <th>NO2(GT)</th>\n",
       "      <th>PT08.S4(NO2)</th>\n",
       "      <th>PT08.S5(O3)</th>\n",
       "      <th>T</th>\n",
       "      <th>RH</th>\n",
       "      <th>AH</th>\n",
       "    </tr>\n",
       "  </thead>\n",
       "  <tbody>\n",
       "    <tr>\n",
       "      <th>0</th>\n",
       "      <td>2004-03-20</td>\n",
       "      <td>00:00:00</td>\n",
       "      <td>1.7</td>\n",
       "      <td>1126.75</td>\n",
       "      <td>-200.0</td>\n",
       "      <td>5.791192</td>\n",
       "      <td>802.00</td>\n",
       "      <td>104.0</td>\n",
       "      <td>1064.00</td>\n",
       "      <td>92.0</td>\n",
       "      <td>1446.50</td>\n",
       "      <td>837.00</td>\n",
       "      <td>13.775</td>\n",
       "      <td>57.95</td>\n",
       "      <td>0.908544</td>\n",
       "    </tr>\n",
       "    <tr>\n",
       "      <th>1</th>\n",
       "      <td>2004-03-20</td>\n",
       "      <td>01:00:00</td>\n",
       "      <td>1.6</td>\n",
       "      <td>1090.25</td>\n",
       "      <td>-200.0</td>\n",
       "      <td>5.191654</td>\n",
       "      <td>773.00</td>\n",
       "      <td>NaN</td>\n",
       "      <td>1105.25</td>\n",
       "      <td>83.0</td>\n",
       "      <td>1428.50</td>\n",
       "      <td>761.00</td>\n",
       "      <td>13.900</td>\n",
       "      <td>55.95</td>\n",
       "      <td>0.884207</td>\n",
       "    </tr>\n",
       "    <tr>\n",
       "      <th>2</th>\n",
       "      <td>2004-03-20</td>\n",
       "      <td>02:00:00</td>\n",
       "      <td>1.3</td>\n",
       "      <td>1017.00</td>\n",
       "      <td>-200.0</td>\n",
       "      <td>4.123187</td>\n",
       "      <td>717.50</td>\n",
       "      <td>74.0</td>\n",
       "      <td>1181.75</td>\n",
       "      <td>81.0</td>\n",
       "      <td>1382.25</td>\n",
       "      <td>650.25</td>\n",
       "      <td>13.875</td>\n",
       "      <td>55.55</td>\n",
       "      <td>0.876488</td>\n",
       "    </tr>\n",
       "    <tr>\n",
       "      <th>3</th>\n",
       "      <td>2004-03-20</td>\n",
       "      <td>03:00:00</td>\n",
       "      <td>1.3</td>\n",
       "      <td>997.25</td>\n",
       "      <td>-200.0</td>\n",
       "      <td>3.410629</td>\n",
       "      <td>677.00</td>\n",
       "      <td>-200.0</td>\n",
       "      <td>1252.25</td>\n",
       "      <td>-200.0</td>\n",
       "      <td>1358.50</td>\n",
       "      <td>590.75</td>\n",
       "      <td>13.825</td>\n",
       "      <td>55.10</td>\n",
       "      <td>0.866620</td>\n",
       "    </tr>\n",
       "    <tr>\n",
       "      <th>4</th>\n",
       "      <td>2004-03-20</td>\n",
       "      <td>04:00:00</td>\n",
       "      <td>-200.0</td>\n",
       "      <td>944.75</td>\n",
       "      <td>-200.0</td>\n",
       "      <td>2.908548</td>\n",
       "      <td>646.25</td>\n",
       "      <td>44.0</td>\n",
       "      <td>1308.00</td>\n",
       "      <td>55.0</td>\n",
       "      <td>1331.50</td>\n",
       "      <td>505.00</td>\n",
       "      <td>13.800</td>\n",
       "      <td>54.60</td>\n",
       "      <td>0.857388</td>\n",
       "    </tr>\n",
       "  </tbody>\n",
       "</table>\n",
       "</div>"
      ],
      "text/plain": [
       "         Date      Time  CO(GT)  PT08.S1(CO)  NMHC(GT)  C6H6(GT)  \\\n",
       "0  2004-03-20  00:00:00     1.7      1126.75    -200.0  5.791192   \n",
       "1  2004-03-20  01:00:00     1.6      1090.25    -200.0  5.191654   \n",
       "2  2004-03-20  02:00:00     1.3      1017.00    -200.0  4.123187   \n",
       "3  2004-03-20  03:00:00     1.3       997.25    -200.0  3.410629   \n",
       "4  2004-03-20  04:00:00  -200.0       944.75    -200.0  2.908548   \n",
       "\n",
       "   PT08.S2(NMHC)  NOx(GT)  PT08.S3(NOx)  NO2(GT)  PT08.S4(NO2)  PT08.S5(O3)  \\\n",
       "0         802.00    104.0       1064.00     92.0       1446.50       837.00   \n",
       "1         773.00      NaN       1105.25     83.0       1428.50       761.00   \n",
       "2         717.50     74.0       1181.75     81.0       1382.25       650.25   \n",
       "3         677.00   -200.0       1252.25   -200.0       1358.50       590.75   \n",
       "4         646.25     44.0       1308.00     55.0       1331.50       505.00   \n",
       "\n",
       "        T     RH        AH  \n",
       "0  13.775  57.95  0.908544  \n",
       "1  13.900  55.95  0.884207  \n",
       "2  13.875  55.55  0.876488  \n",
       "3  13.825  55.10  0.866620  \n",
       "4  13.800  54.60  0.857388  "
      ]
     },
     "execution_count": 6,
     "metadata": {},
     "output_type": "execute_result"
    }
   ],
   "source": [
    "df2.head() # 합쳐야 하는 데이터 구조"
   ]
  },
  {
   "cell_type": "code",
   "execution_count": 7,
   "metadata": {},
   "outputs": [
    {
     "data": {
      "text/plain": [
       "(24, 15)"
      ]
     },
     "execution_count": 7,
     "metadata": {},
     "output_type": "execute_result"
    }
   ],
   "source": [
    "df1.shape"
   ]
  },
  {
   "cell_type": "code",
   "execution_count": 8,
   "metadata": {},
   "outputs": [
    {
     "data": {
      "text/plain": [
       "(24, 15)"
      ]
     },
     "execution_count": 8,
     "metadata": {},
     "output_type": "execute_result"
    }
   ],
   "source": [
    "df2.shape"
   ]
  },
  {
   "cell_type": "code",
   "execution_count": 9,
   "metadata": {},
   "outputs": [
    {
     "data": {
      "text/plain": [
       "['2004-03-11_오염_수준.txt',\n",
       " '2004-03-12_오염_수준.txt',\n",
       " '2004-03-13_오염_수준.txt',\n",
       " '2004-03-14_오염_수준.txt',\n",
       " '2004-03-15_오염_수준.txt',\n",
       " '2004-03-16_오염_수준.txt',\n",
       " '2004-03-17_오염_수준.txt',\n",
       " '2004-03-18_오염_수준.txt',\n",
       " '2004-03-19_오염_수준.txt',\n",
       " '2004-03-20_오염_수준.txt',\n",
       " '2004-03-21_오염_수준.txt',\n",
       " '2004-03-22_오염_수준.txt',\n",
       " '2004-03-23_오염_수준.txt',\n",
       " '2004-03-24_오염_수준.txt',\n",
       " '2004-03-25_오염_수준.txt',\n",
       " '2004-03-26_오염_수준.txt',\n",
       " '2004-03-27_오염_수준.txt',\n",
       " '2004-03-28_오염_수준.txt',\n",
       " '2004-03-29_오염_수준.txt',\n",
       " '2004-03-30_오염_수준.txt',\n",
       " '2004-03-31_오염_수준.txt',\n",
       " 'desktop.ini']"
      ]
     },
     "execution_count": 9,
     "metadata": {},
     "output_type": "execute_result"
    }
   ],
   "source": [
    "os.listdir(\"일별 오염 데이터\") # 디렉터리의 모든 데이터를 불러모은다. "
   ]
  },
  {
   "cell_type": "code",
   "execution_count": 8,
   "metadata": {},
   "outputs": [
    {
     "name": "stdout",
     "output_type": "stream",
     "text": [
      "0.0875241756439209\n"
     ]
    }
   ],
   "source": [
    "# for문을 이용한 데이터 병합 \n",
    "# (코드가 김, 상대적으로 비효율적임, 메모리 문제가 생길 가능성이 적음)\n",
    "import time\n",
    "t1= time.time()\n",
    "merged_df = pd.DataFrame() # 빈 데이터 프레임 생성\n",
    "for file in os.listdir(\"일별 오염 데이터\"):\n",
    "    if '오염_수준.txt' in file:\n",
    "        df = pd.read_csv(\"일별 오염 데이터/\" + file, sep = \"\\t\", engine = \"python\")\n",
    "        merged_df = pd.concat([merged_df, df], axis = 0, ignore_index = True)\n",
    "# 여기서 list compreshension에 대한 힌트가 있다. df의 리스트를 합하는 형태이기 때문에 바로 list를 형성해도 문제가 되지 않는다. 코드가 짧아진다. \n",
    "t2 = time.time()\n",
    "# merged_df.head()\n",
    "print(t2-t1)"
   ]
  },
  {
   "cell_type": "code",
   "execution_count": 11,
   "metadata": {},
   "outputs": [
    {
     "data": {
      "text/plain": [
       "(504, 15)"
      ]
     },
     "execution_count": 11,
     "metadata": {},
     "output_type": "execute_result"
    }
   ],
   "source": [
    "merged_df.shape"
   ]
  },
  {
   "cell_type": "code",
   "execution_count": 9,
   "metadata": {},
   "outputs": [
    {
     "name": "stdout",
     "output_type": "stream",
     "text": [
      "0.07851576805114746\n"
     ]
    }
   ],
   "source": [
    "t1= time.time()\n",
    "merged_df = pd.concat([pd.read_csv(\"일별 오염 데이터/\" + file, sep = '\\t', engine = 'python')\n",
    "                      for file in os.listdir('일별 오염 데이터') if '오염_수준.txt' in file], axis = 0, ignore_index = True)\n",
    "t2 = time.time()\n",
    "print(t2-t1)\n",
    "# list comprehension을 이용한 데이터 통합\n",
    "# (코드가 짧음, 효율적임, 메모리 문제가 생길 수 있음) 조금 더 빠르다는 장점이 있다. \n",
    "# 리스트 안에 모든 df이 저장된 상태이다. 때문에 파일이 많다면 메모리 부족 문제가 발생한다.\n",
    "# 그렇다면 for문은? for 문에서는 df가 갱신되기 때문에 메모리 부족 문제가 상대적으로 덜 발생한다. 하나씩 받아서 붙여넣는 작업을 하기 때문이다. 따라서 데이터 하나하나가 매우 무겁다? 그러면 for문 사용. "
   ]
  },
  {
   "cell_type": "code",
   "execution_count": 7,
   "metadata": {},
   "outputs": [
    {
     "data": {
      "text/html": [
       "<div>\n",
       "<style scoped>\n",
       "    .dataframe tbody tr th:only-of-type {\n",
       "        vertical-align: middle;\n",
       "    }\n",
       "\n",
       "    .dataframe tbody tr th {\n",
       "        vertical-align: top;\n",
       "    }\n",
       "\n",
       "    .dataframe thead th {\n",
       "        text-align: right;\n",
       "    }\n",
       "</style>\n",
       "<table border=\"1\" class=\"dataframe\">\n",
       "  <thead>\n",
       "    <tr style=\"text-align: right;\">\n",
       "      <th></th>\n",
       "      <th>Date</th>\n",
       "      <th>Time</th>\n",
       "      <th>CO(GT)</th>\n",
       "      <th>PT08.S1(CO)</th>\n",
       "      <th>NMHC(GT)</th>\n",
       "      <th>C6H6(GT)</th>\n",
       "      <th>PT08.S2(NMHC)</th>\n",
       "      <th>NOx(GT)</th>\n",
       "      <th>PT08.S3(NOx)</th>\n",
       "      <th>NO2(GT)</th>\n",
       "      <th>PT08.S4(NO2)</th>\n",
       "      <th>PT08.S5(O3)</th>\n",
       "      <th>T</th>\n",
       "      <th>RH</th>\n",
       "      <th>AH</th>\n",
       "    </tr>\n",
       "  </thead>\n",
       "  <tbody>\n",
       "    <tr>\n",
       "      <th>0</th>\n",
       "      <td>2004-03-11</td>\n",
       "      <td>00:00:00</td>\n",
       "      <td>1.2</td>\n",
       "      <td>1185.000000</td>\n",
       "      <td>31.0</td>\n",
       "      <td>3.624399</td>\n",
       "      <td>689.50</td>\n",
       "      <td>62.0</td>\n",
       "      <td>1461.750000</td>\n",
       "      <td>77.0</td>\n",
       "      <td>1332.75</td>\n",
       "      <td>732.500000</td>\n",
       "      <td>11.325</td>\n",
       "      <td>56.775000</td>\n",
       "      <td>0.760312</td>\n",
       "    </tr>\n",
       "    <tr>\n",
       "      <th>1</th>\n",
       "      <td>2004-03-11</td>\n",
       "      <td>01:00:00</td>\n",
       "      <td>1.0</td>\n",
       "      <td>1136.250000</td>\n",
       "      <td>31.0</td>\n",
       "      <td>3.326677</td>\n",
       "      <td>672.00</td>\n",
       "      <td>62.0</td>\n",
       "      <td>1453.250000</td>\n",
       "      <td>76.0</td>\n",
       "      <td>1332.75</td>\n",
       "      <td>729.500000</td>\n",
       "      <td>10.675</td>\n",
       "      <td>60.000000</td>\n",
       "      <td>0.770238</td>\n",
       "    </tr>\n",
       "    <tr>\n",
       "      <th>2</th>\n",
       "      <td>2004-03-11</td>\n",
       "      <td>02:00:00</td>\n",
       "      <td>0.9</td>\n",
       "      <td>1094.000000</td>\n",
       "      <td>24.0</td>\n",
       "      <td>2.339416</td>\n",
       "      <td>608.50</td>\n",
       "      <td>45.0</td>\n",
       "      <td>1579.000000</td>\n",
       "      <td>60.0</td>\n",
       "      <td>1276.00</td>\n",
       "      <td>619.500000</td>\n",
       "      <td>10.650</td>\n",
       "      <td>59.674999</td>\n",
       "      <td>0.764819</td>\n",
       "    </tr>\n",
       "    <tr>\n",
       "      <th>3</th>\n",
       "      <td>2004-03-11</td>\n",
       "      <td>03:00:00</td>\n",
       "      <td>0.6</td>\n",
       "      <td>1009.750000</td>\n",
       "      <td>19.0</td>\n",
       "      <td>1.696658</td>\n",
       "      <td>560.75</td>\n",
       "      <td>-200.0</td>\n",
       "      <td>1705.000000</td>\n",
       "      <td>-200.0</td>\n",
       "      <td>1234.75</td>\n",
       "      <td>501.250000</td>\n",
       "      <td>10.250</td>\n",
       "      <td>60.200001</td>\n",
       "      <td>0.751657</td>\n",
       "    </tr>\n",
       "    <tr>\n",
       "      <th>4</th>\n",
       "      <td>2004-03-11</td>\n",
       "      <td>04:00:00</td>\n",
       "      <td>-200.0</td>\n",
       "      <td>1011.000000</td>\n",
       "      <td>14.0</td>\n",
       "      <td>1.293620</td>\n",
       "      <td>526.75</td>\n",
       "      <td>21.0</td>\n",
       "      <td>1817.500000</td>\n",
       "      <td>34.0</td>\n",
       "      <td>1196.75</td>\n",
       "      <td>445.250000</td>\n",
       "      <td>10.075</td>\n",
       "      <td>60.474999</td>\n",
       "      <td>0.746495</td>\n",
       "    </tr>\n",
       "    <tr>\n",
       "      <th>...</th>\n",
       "      <td>...</td>\n",
       "      <td>...</td>\n",
       "      <td>...</td>\n",
       "      <td>...</td>\n",
       "      <td>...</td>\n",
       "      <td>...</td>\n",
       "      <td>...</td>\n",
       "      <td>...</td>\n",
       "      <td>...</td>\n",
       "      <td>...</td>\n",
       "      <td>...</td>\n",
       "      <td>...</td>\n",
       "      <td>...</td>\n",
       "      <td>...</td>\n",
       "      <td>...</td>\n",
       "    </tr>\n",
       "    <tr>\n",
       "      <th>499</th>\n",
       "      <td>2004-03-31</td>\n",
       "      <td>19:00:00</td>\n",
       "      <td>2.7</td>\n",
       "      <td>1254.333333</td>\n",
       "      <td>226.0</td>\n",
       "      <td>11.524820</td>\n",
       "      <td>1033.00</td>\n",
       "      <td>142.0</td>\n",
       "      <td>818.666667</td>\n",
       "      <td>107.0</td>\n",
       "      <td>1669.00</td>\n",
       "      <td>1068.333333</td>\n",
       "      <td>14.300</td>\n",
       "      <td>52.933333</td>\n",
       "      <td>0.858103</td>\n",
       "    </tr>\n",
       "    <tr>\n",
       "      <th>500</th>\n",
       "      <td>2004-03-31</td>\n",
       "      <td>20:00:00</td>\n",
       "      <td>2.3</td>\n",
       "      <td>1198.000000</td>\n",
       "      <td>221.0</td>\n",
       "      <td>9.345221</td>\n",
       "      <td>952.75</td>\n",
       "      <td>131.0</td>\n",
       "      <td>881.500000</td>\n",
       "      <td>105.0</td>\n",
       "      <td>1588.25</td>\n",
       "      <td>1018.500000</td>\n",
       "      <td>13.175</td>\n",
       "      <td>55.974999</td>\n",
       "      <td>0.844558</td>\n",
       "    </tr>\n",
       "    <tr>\n",
       "      <th>501</th>\n",
       "      <td>2004-03-31</td>\n",
       "      <td>21:00:00</td>\n",
       "      <td>1.5</td>\n",
       "      <td>1060.250000</td>\n",
       "      <td>109.0</td>\n",
       "      <td>5.467274</td>\n",
       "      <td>786.50</td>\n",
       "      <td>81.0</td>\n",
       "      <td>1044.000000</td>\n",
       "      <td>91.0</td>\n",
       "      <td>1418.00</td>\n",
       "      <td>833.000000</td>\n",
       "      <td>12.650</td>\n",
       "      <td>57.000000</td>\n",
       "      <td>0.831531</td>\n",
       "    </tr>\n",
       "    <tr>\n",
       "      <th>502</th>\n",
       "      <td>2004-03-31</td>\n",
       "      <td>22:00:00</td>\n",
       "      <td>1.4</td>\n",
       "      <td>1050.000000</td>\n",
       "      <td>105.0</td>\n",
       "      <td>5.101134</td>\n",
       "      <td>768.50</td>\n",
       "      <td>60.0</td>\n",
       "      <td>1078.250000</td>\n",
       "      <td>79.0</td>\n",
       "      <td>1408.75</td>\n",
       "      <td>758.500000</td>\n",
       "      <td>12.275</td>\n",
       "      <td>57.750001</td>\n",
       "      <td>0.822377</td>\n",
       "    </tr>\n",
       "    <tr>\n",
       "      <th>503</th>\n",
       "      <td>2004-03-31</td>\n",
       "      <td>23:00:00</td>\n",
       "      <td>1.2</td>\n",
       "      <td>1029.250000</td>\n",
       "      <td>84.0</td>\n",
       "      <td>4.804320</td>\n",
       "      <td>753.50</td>\n",
       "      <td>57.0</td>\n",
       "      <td>1097.500000</td>\n",
       "      <td>79.0</td>\n",
       "      <td>1395.25</td>\n",
       "      <td>749.000000</td>\n",
       "      <td>11.975</td>\n",
       "      <td>58.450000</td>\n",
       "      <td>0.816387</td>\n",
       "    </tr>\n",
       "  </tbody>\n",
       "</table>\n",
       "<p>504 rows × 15 columns</p>\n",
       "</div>"
      ],
      "text/plain": [
       "           Date      Time  CO(GT)  PT08.S1(CO)  NMHC(GT)   C6H6(GT)  \\\n",
       "0    2004-03-11  00:00:00     1.2  1185.000000      31.0   3.624399   \n",
       "1    2004-03-11  01:00:00     1.0  1136.250000      31.0   3.326677   \n",
       "2    2004-03-11  02:00:00     0.9  1094.000000      24.0   2.339416   \n",
       "3    2004-03-11  03:00:00     0.6  1009.750000      19.0   1.696658   \n",
       "4    2004-03-11  04:00:00  -200.0  1011.000000      14.0   1.293620   \n",
       "..          ...       ...     ...          ...       ...        ...   \n",
       "499  2004-03-31  19:00:00     2.7  1254.333333     226.0  11.524820   \n",
       "500  2004-03-31  20:00:00     2.3  1198.000000     221.0   9.345221   \n",
       "501  2004-03-31  21:00:00     1.5  1060.250000     109.0   5.467274   \n",
       "502  2004-03-31  22:00:00     1.4  1050.000000     105.0   5.101134   \n",
       "503  2004-03-31  23:00:00     1.2  1029.250000      84.0   4.804320   \n",
       "\n",
       "     PT08.S2(NMHC)  NOx(GT)  PT08.S3(NOx)  NO2(GT)  PT08.S4(NO2)  PT08.S5(O3)  \\\n",
       "0           689.50     62.0   1461.750000     77.0       1332.75   732.500000   \n",
       "1           672.00     62.0   1453.250000     76.0       1332.75   729.500000   \n",
       "2           608.50     45.0   1579.000000     60.0       1276.00   619.500000   \n",
       "3           560.75   -200.0   1705.000000   -200.0       1234.75   501.250000   \n",
       "4           526.75     21.0   1817.500000     34.0       1196.75   445.250000   \n",
       "..             ...      ...           ...      ...           ...          ...   \n",
       "499        1033.00    142.0    818.666667    107.0       1669.00  1068.333333   \n",
       "500         952.75    131.0    881.500000    105.0       1588.25  1018.500000   \n",
       "501         786.50     81.0   1044.000000     91.0       1418.00   833.000000   \n",
       "502         768.50     60.0   1078.250000     79.0       1408.75   758.500000   \n",
       "503         753.50     57.0   1097.500000     79.0       1395.25   749.000000   \n",
       "\n",
       "          T         RH        AH  \n",
       "0    11.325  56.775000  0.760312  \n",
       "1    10.675  60.000000  0.770238  \n",
       "2    10.650  59.674999  0.764819  \n",
       "3    10.250  60.200001  0.751657  \n",
       "4    10.075  60.474999  0.746495  \n",
       "..      ...        ...       ...  \n",
       "499  14.300  52.933333  0.858103  \n",
       "500  13.175  55.974999  0.844558  \n",
       "501  12.650  57.000000  0.831531  \n",
       "502  12.275  57.750001  0.822377  \n",
       "503  11.975  58.450000  0.816387  \n",
       "\n",
       "[504 rows x 15 columns]"
      ]
     },
     "execution_count": 7,
     "metadata": {},
     "output_type": "execute_result"
    }
   ],
   "source": [
    "merged_df.shape\n",
    "merged_df"
   ]
  },
  {
   "cell_type": "markdown",
   "metadata": {},
   "source": [
    "#### concat을 이용한 엑셀 시트 통합"
   ]
  },
  {
   "cell_type": "code",
   "execution_count": null,
   "metadata": {},
   "outputs": [],
   "source": []
  },
  {
   "cell_type": "code",
   "execution_count": 11,
   "metadata": {},
   "outputs": [
    {
     "data": {
      "text/plain": [
       "['1월', '2월', '3월', '4월', '5월', '6월', '7월', '8월', '9월', '10월', '11월', '12월']"
      ]
     },
     "execution_count": 11,
     "metadata": {},
     "output_type": "execute_result"
    }
   ],
   "source": [
    "import xlrd\n",
    "wb = xlrd.open_workbook(\"월별매출데이터.xlsx\", on_demand = True)\n",
    "sheetnames = wb.sheet_names()\n",
    "sheetnames"
   ]
  },
  {
   "cell_type": "code",
   "execution_count": 16,
   "metadata": {},
   "outputs": [
    {
     "name": "stdout",
     "output_type": "stream",
     "text": [
      "16.376180171966553\n"
     ]
    }
   ],
   "source": [
    "t1 = time.time()\n",
    "merged_df = pd.DataFrame()\n",
    "\n",
    "for sn in sheetnames:\n",
    "    df = pd.read_excel(\"월별매출데이터.xlsx\", sheet_name = sn, skiprows = range(6))\n",
    "    df = df.iloc[:, 1:] # 첫 번째 컬럼이 불필요하므로 제거\n",
    "    merged_df = pd.concat([merged_df, df], axis = 0, ignore_index = True)\n",
    "merged_df\n",
    "t2 = time.time()\n",
    "print(t2 - t1)"
   ]
  },
  {
   "cell_type": "code",
   "execution_count": 17,
   "metadata": {},
   "outputs": [
    {
     "data": {
      "text/plain": [
       "(1509, 8)"
      ]
     },
     "execution_count": 17,
     "metadata": {},
     "output_type": "execute_result"
    }
   ],
   "source": [
    "df.shape"
   ]
  },
  {
   "cell_type": "code",
   "execution_count": 18,
   "metadata": {},
   "outputs": [
    {
     "data": {
      "text/plain": [
       "(18229, 8)"
      ]
     },
     "execution_count": 18,
     "metadata": {},
     "output_type": "execute_result"
    }
   ],
   "source": [
    "merged_df.shape"
   ]
  },
  {
   "cell_type": "code",
   "execution_count": 19,
   "metadata": {},
   "outputs": [
    {
     "name": "stdout",
     "output_type": "stream",
     "text": [
      "16.44338369369507\n"
     ]
    },
    {
     "data": {
      "text/plain": [
       "(18229, 8)"
      ]
     },
     "execution_count": 19,
     "metadata": {},
     "output_type": "execute_result"
    }
   ],
   "source": [
    "# list comprehension을 이용한 데이터 통합\n",
    "t1 = time.time()\n",
    "merged_df = pd.concat([pd.read_excel(\"월별매출데이터.xlsx\", sheet_name = sn, skiprows = range(6))\n",
    "                       .iloc[:, 1:] for sn in sheetnames])\n",
    "t2 = time.time()\n",
    "print(t2-t1)\n",
    "merged_df.shape\n",
    "# 지금 엑셀 데이터 시트당 데이터가 1500개가 넘어가기 때문에 단순 순회가 더 빠를 수 있다."
   ]
  },
  {
   "cell_type": "code",
   "execution_count": null,
   "metadata": {},
   "outputs": [],
   "source": []
  }
 ],
 "metadata": {
  "kernelspec": {
   "display_name": "Python 3",
   "language": "python",
   "name": "python3"
  },
  "language_info": {
   "codemirror_mode": {
    "name": "ipython",
    "version": 3
   },
   "file_extension": ".py",
   "mimetype": "text/x-python",
   "name": "python",
   "nbconvert_exporter": "python",
   "pygments_lexer": "ipython3",
   "version": "3.8.5"
  }
 },
 "nbformat": 4,
 "nbformat_minor": 4
}
