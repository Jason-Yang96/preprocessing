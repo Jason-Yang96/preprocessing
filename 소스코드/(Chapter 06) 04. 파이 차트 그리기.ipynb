{
 "cells": [
  {
   "cell_type": "code",
   "execution_count": 1,
   "metadata": {},
   "outputs": [],
   "source": [
    "import os\n",
    "import pandas as pd\n",
    "os.chdir(r\"C:\\Users\\user\\jupyter\\python\\preprocessing\\데이터\")"
   ]
  },
  {
   "cell_type": "code",
   "execution_count": 2,
   "metadata": {},
   "outputs": [
    {
     "data": {
      "text/html": [
       "<div>\n",
       "<style scoped>\n",
       "    .dataframe tbody tr th:only-of-type {\n",
       "        vertical-align: middle;\n",
       "    }\n",
       "\n",
       "    .dataframe tbody tr th {\n",
       "        vertical-align: top;\n",
       "    }\n",
       "\n",
       "    .dataframe thead th {\n",
       "        text-align: right;\n",
       "    }\n",
       "</style>\n",
       "<table border=\"1\" class=\"dataframe\">\n",
       "  <thead>\n",
       "    <tr style=\"text-align: right;\">\n",
       "      <th></th>\n",
       "      <th>년도(year)</th>\n",
       "      <th>월(month)</th>\n",
       "      <th>분기(4)</th>\n",
       "      <th>일자(day)</th>\n",
       "      <th>주차별 편중도</th>\n",
       "      <th>출하일</th>\n",
       "      <th>대리점</th>\n",
       "      <th>지역 구분</th>\n",
       "      <th>내수/수출 구분</th>\n",
       "      <th>제품군</th>\n",
       "      <th>수량</th>\n",
       "    </tr>\n",
       "  </thead>\n",
       "  <tbody>\n",
       "    <tr>\n",
       "      <th>0</th>\n",
       "      <td>2016</td>\n",
       "      <td>1</td>\n",
       "      <td>1분기</td>\n",
       "      <td>4</td>\n",
       "      <td>상</td>\n",
       "      <td>2016-01-04</td>\n",
       "      <td>대리점 6</td>\n",
       "      <td>국내</td>\n",
       "      <td>내수</td>\n",
       "      <td>제품 1</td>\n",
       "      <td>12</td>\n",
       "    </tr>\n",
       "    <tr>\n",
       "      <th>1</th>\n",
       "      <td>2016</td>\n",
       "      <td>1</td>\n",
       "      <td>1분기</td>\n",
       "      <td>4</td>\n",
       "      <td>상</td>\n",
       "      <td>2016-01-04</td>\n",
       "      <td>대리점 6</td>\n",
       "      <td>국내</td>\n",
       "      <td>내수</td>\n",
       "      <td>제품 1</td>\n",
       "      <td>4</td>\n",
       "    </tr>\n",
       "    <tr>\n",
       "      <th>2</th>\n",
       "      <td>2016</td>\n",
       "      <td>1</td>\n",
       "      <td>1분기</td>\n",
       "      <td>4</td>\n",
       "      <td>상</td>\n",
       "      <td>2016-01-04</td>\n",
       "      <td>대리점 6</td>\n",
       "      <td>국내</td>\n",
       "      <td>내수</td>\n",
       "      <td>제품 1</td>\n",
       "      <td>1</td>\n",
       "    </tr>\n",
       "    <tr>\n",
       "      <th>3</th>\n",
       "      <td>2016</td>\n",
       "      <td>1</td>\n",
       "      <td>1분기</td>\n",
       "      <td>4</td>\n",
       "      <td>상</td>\n",
       "      <td>2016-01-04</td>\n",
       "      <td>대리점 6</td>\n",
       "      <td>국내</td>\n",
       "      <td>내수</td>\n",
       "      <td>제품 5</td>\n",
       "      <td>122</td>\n",
       "    </tr>\n",
       "    <tr>\n",
       "      <th>4</th>\n",
       "      <td>2016</td>\n",
       "      <td>1</td>\n",
       "      <td>1분기</td>\n",
       "      <td>4</td>\n",
       "      <td>상</td>\n",
       "      <td>2016-01-04</td>\n",
       "      <td>대리점 6</td>\n",
       "      <td>국내</td>\n",
       "      <td>내수</td>\n",
       "      <td>제품 1</td>\n",
       "      <td>20</td>\n",
       "    </tr>\n",
       "  </tbody>\n",
       "</table>\n",
       "</div>"
      ],
      "text/plain": [
       "   년도(year)  월(month) 분기(4)  일자(day) 주차별 편중도         출하일    대리점 지역 구분  \\\n",
       "0      2016         1   1분기        4       상  2016-01-04  대리점 6    국내   \n",
       "1      2016         1   1분기        4       상  2016-01-04  대리점 6    국내   \n",
       "2      2016         1   1분기        4       상  2016-01-04  대리점 6    국내   \n",
       "3      2016         1   1분기        4       상  2016-01-04  대리점 6    국내   \n",
       "4      2016         1   1분기        4       상  2016-01-04  대리점 6    국내   \n",
       "\n",
       "  내수/수출 구분   제품군   수량  \n",
       "0       내수  제품 1   12  \n",
       "1       내수  제품 1    4  \n",
       "2       내수  제품 1    1  \n",
       "3       내수  제품 5  122  \n",
       "4       내수  제품 1   20  "
      ]
     },
     "execution_count": 2,
     "metadata": {},
     "output_type": "execute_result"
    }
   ],
   "source": [
    "df = pd.read_csv(\"판매실적통합본.csv\", engine = \"python\")\n",
    "df.head()"
   ]
  },
  {
   "cell_type": "code",
   "execution_count": 3,
   "metadata": {},
   "outputs": [],
   "source": [
    "# 제품군별 수량합계 계산\n",
    "grouped_df = df.groupby(['제품군'], as_index = False)['수량'].sum()"
   ]
  },
  {
   "cell_type": "code",
   "execution_count": 4,
   "metadata": {},
   "outputs": [
    {
     "data": {
      "text/html": [
       "<div>\n",
       "<style scoped>\n",
       "    .dataframe tbody tr th:only-of-type {\n",
       "        vertical-align: middle;\n",
       "    }\n",
       "\n",
       "    .dataframe tbody tr th {\n",
       "        vertical-align: top;\n",
       "    }\n",
       "\n",
       "    .dataframe thead th {\n",
       "        text-align: right;\n",
       "    }\n",
       "</style>\n",
       "<table border=\"1\" class=\"dataframe\">\n",
       "  <thead>\n",
       "    <tr style=\"text-align: right;\">\n",
       "      <th></th>\n",
       "      <th>제품군</th>\n",
       "      <th>수량</th>\n",
       "    </tr>\n",
       "  </thead>\n",
       "  <tbody>\n",
       "    <tr>\n",
       "      <th>0</th>\n",
       "      <td>제품 1</td>\n",
       "      <td>2690307</td>\n",
       "    </tr>\n",
       "    <tr>\n",
       "      <th>1</th>\n",
       "      <td>제품 2</td>\n",
       "      <td>4223384</td>\n",
       "    </tr>\n",
       "    <tr>\n",
       "      <th>2</th>\n",
       "      <td>제품 3</td>\n",
       "      <td>531946</td>\n",
       "    </tr>\n",
       "    <tr>\n",
       "      <th>3</th>\n",
       "      <td>제품 4</td>\n",
       "      <td>277193</td>\n",
       "    </tr>\n",
       "    <tr>\n",
       "      <th>4</th>\n",
       "      <td>제품 5</td>\n",
       "      <td>126323</td>\n",
       "    </tr>\n",
       "    <tr>\n",
       "      <th>5</th>\n",
       "      <td>제품 6</td>\n",
       "      <td>262774</td>\n",
       "    </tr>\n",
       "  </tbody>\n",
       "</table>\n",
       "</div>"
      ],
      "text/plain": [
       "    제품군       수량\n",
       "0  제품 1  2690307\n",
       "1  제품 2  4223384\n",
       "2  제품 3   531946\n",
       "3  제품 4   277193\n",
       "4  제품 5   126323\n",
       "5  제품 6   262774"
      ]
     },
     "execution_count": 4,
     "metadata": {},
     "output_type": "execute_result"
    }
   ],
   "source": [
    "grouped_df"
   ]
  },
  {
   "cell_type": "code",
   "execution_count": 5,
   "metadata": {},
   "outputs": [
    {
     "data": {
      "text/html": [
       "<div>\n",
       "<style scoped>\n",
       "    .dataframe tbody tr th:only-of-type {\n",
       "        vertical-align: middle;\n",
       "    }\n",
       "\n",
       "    .dataframe tbody tr th {\n",
       "        vertical-align: top;\n",
       "    }\n",
       "\n",
       "    .dataframe thead th {\n",
       "        text-align: right;\n",
       "    }\n",
       "</style>\n",
       "<table border=\"1\" class=\"dataframe\">\n",
       "  <thead>\n",
       "    <tr style=\"text-align: right;\">\n",
       "      <th></th>\n",
       "      <th>제품군</th>\n",
       "      <th>수량</th>\n",
       "    </tr>\n",
       "  </thead>\n",
       "  <tbody>\n",
       "    <tr>\n",
       "      <th>4</th>\n",
       "      <td>제품 5</td>\n",
       "      <td>126323</td>\n",
       "    </tr>\n",
       "    <tr>\n",
       "      <th>5</th>\n",
       "      <td>제품 6</td>\n",
       "      <td>262774</td>\n",
       "    </tr>\n",
       "    <tr>\n",
       "      <th>3</th>\n",
       "      <td>제품 4</td>\n",
       "      <td>277193</td>\n",
       "    </tr>\n",
       "    <tr>\n",
       "      <th>2</th>\n",
       "      <td>제품 3</td>\n",
       "      <td>531946</td>\n",
       "    </tr>\n",
       "    <tr>\n",
       "      <th>0</th>\n",
       "      <td>제품 1</td>\n",
       "      <td>2690307</td>\n",
       "    </tr>\n",
       "    <tr>\n",
       "      <th>1</th>\n",
       "      <td>제품 2</td>\n",
       "      <td>4223384</td>\n",
       "    </tr>\n",
       "  </tbody>\n",
       "</table>\n",
       "</div>"
      ],
      "text/plain": [
       "    제품군       수량\n",
       "4  제품 5   126323\n",
       "5  제품 6   262774\n",
       "3  제품 4   277193\n",
       "2  제품 3   531946\n",
       "0  제품 1  2690307\n",
       "1  제품 2  4223384"
      ]
     },
     "execution_count": 5,
     "metadata": {},
     "output_type": "execute_result"
    }
   ],
   "source": [
    "grouped_df.sort_values(by = '수량')"
   ]
  },
  {
   "cell_type": "code",
   "execution_count": 6,
   "metadata": {},
   "outputs": [
    {
     "data": {
      "text/plain": [
       "1198236"
      ]
     },
     "execution_count": 6,
     "metadata": {},
     "output_type": "execute_result"
    }
   ],
   "source": [
    "grouped_df.sort_values(by = '수량')['수량'].iloc[:4].sum() ### series도 sum을 사용할 수 있다."
   ]
  },
  {
   "cell_type": "code",
   "execution_count": 7,
   "metadata": {},
   "outputs": [
    {
     "data": {
      "text/html": [
       "<div>\n",
       "<style scoped>\n",
       "    .dataframe tbody tr th:only-of-type {\n",
       "        vertical-align: middle;\n",
       "    }\n",
       "\n",
       "    .dataframe tbody tr th {\n",
       "        vertical-align: top;\n",
       "    }\n",
       "\n",
       "    .dataframe thead th {\n",
       "        text-align: right;\n",
       "    }\n",
       "</style>\n",
       "<table border=\"1\" class=\"dataframe\">\n",
       "  <thead>\n",
       "    <tr style=\"text-align: right;\">\n",
       "      <th></th>\n",
       "      <th>제품군</th>\n",
       "      <th>수량</th>\n",
       "    </tr>\n",
       "  </thead>\n",
       "  <tbody>\n",
       "    <tr>\n",
       "      <th>1</th>\n",
       "      <td>제품 2</td>\n",
       "      <td>4223384</td>\n",
       "    </tr>\n",
       "    <tr>\n",
       "      <th>0</th>\n",
       "      <td>제품 1</td>\n",
       "      <td>2690307</td>\n",
       "    </tr>\n",
       "    <tr>\n",
       "      <th>0</th>\n",
       "      <td>기타</td>\n",
       "      <td>1198236</td>\n",
       "    </tr>\n",
       "  </tbody>\n",
       "</table>\n",
       "</div>"
      ],
      "text/plain": [
       "    제품군       수량\n",
       "1  제품 2  4223384\n",
       "0  제품 1  2690307\n",
       "0    기타  1198236"
      ]
     },
     "execution_count": 7,
     "metadata": {},
     "output_type": "execute_result"
    }
   ],
   "source": [
    "# 기타 행 추가\n",
    "other_row = pd.DataFrame({\"제품군\":['기타'], \n",
    "                          '수량':[grouped_df.sort_values(by = '수량')['수량'].iloc[:4].sum()]})\n",
    "\n",
    "grouped_df = pd.concat([grouped_df, other_row], axis = 0, ignore_index = False)\n",
    "grouped_df = grouped_df.sort_values(by = '수량', ascending = False).iloc[:3]\n",
    "grouped_df"
   ]
  },
  {
   "cell_type": "code",
   "execution_count": 10,
   "metadata": {},
   "outputs": [],
   "source": [
    "# 그래프 기본 설정\n",
    "from matplotlib import pyplot as plt\n",
    "import numpy as np\n",
    "%matplotlib inline\n",
    "plt.rcParams[\"font.family\"] = 'Malgun Gothic'\n",
    "plt.rcParams[\"font.size\"] = 15\n",
    "plt.rcParams[\"figure.figsize\"] = (10, 8)"
   ]
  },
  {
   "cell_type": "code",
   "execution_count": 13,
   "metadata": {},
   "outputs": [
    {
     "data": {
      "text/plain": [
       "([<matplotlib.patches.Wedge at 0x1f02a160d90>,\n",
       "  <matplotlib.patches.Wedge at 0x1f02a1703a0>,\n",
       "  <matplotlib.patches.Wedge at 0x1f02a170a30>],\n",
       " [Text(-0.019438006431517805, 0.29936961085916564, '제품 2'),\n",
       "  Text(-0.11660851500795197, -0.27640993872804254, '제품 1'),\n",
       "  Text(0.2682736687188585, -0.13427300053295957, '기타')],\n",
       " [Text(-0.03887601286303561, 0.5987392217183313, '52.06%'),\n",
       "  Text(-0.23321703001590394, -0.5528198774560851, '33.16%'),\n",
       "  Text(0.536547337437717, -0.26854600106591914, '14.77%')])"
      ]
     },
     "execution_count": 13,
     "metadata": {},
     "output_type": "execute_result"
    },
    {
     "data": {
      "image/png": "[encoded data removed]",
      "text/plain": [
       "<Figure size 720x576 with 1 Axes>"
      ]
     },
     "metadata": {},
     "output_type": "display_data"
    }
   ],
   "source": [
    "# 제품군별 출하량 합계 계산\n",
    "plt.title(\"제품군별 출하량 비율\")\n",
    "\n",
    "plt.pie(x = grouped_df['수량'],\n",
    "        labels = grouped_df['제품군'],\n",
    "       labeldistance = 0.3,\n",
    "       autopct = '%1.2f%%')"
   ]
  }
 ],
 "metadata": {
  "kernelspec": {
   "display_name": "Python 3",
   "language": "python",
   "name": "python3"
  },
  "language_info": {
   "codemirror_mode": {
    "name": "ipython",
    "version": 3
   },
   "file_extension": ".py",
   "mimetype": "text/x-python",
   "name": "python",
   "nbconvert_exporter": "python",
   "pygments_lexer": "ipython3",
   "version": "3.8.5"
  }
 },
 "nbformat": 4,
 "nbformat_minor": 4
}
