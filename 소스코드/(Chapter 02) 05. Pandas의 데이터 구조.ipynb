{
 "cells": [
  {
   "cell_type": "code",
   "execution_count": 3,
   "metadata": {},
   "outputs": [],
   "source": [
    "import pandas as pd"
   ]
  },
  {
   "cell_type": "markdown",
   "metadata": {},
   "source": [
    "#### Series 기본: 1차원 배열 자료형으로 인덱스와 값의 쌍으로 구성된다. ndarray에 인덱스가 부여된 형태의 데이터를 가지고 있다. 때문에 유니버설 함수와 브로드캐스팅 등이 적용된다. "
   ]
  },
  {
   "cell_type": "code",
   "execution_count": 2,
   "metadata": {},
   "outputs": [
    {
     "data": {
      "text/plain": [
       "a    1\n",
       "b    2\n",
       "c    3\n",
       "d    4\n",
       "dtype: int64"
      ]
     },
     "execution_count": 2,
     "metadata": {},
     "output_type": "execute_result"
    }
   ],
   "source": [
    "S = pd.Series({\"a\": 1, \"b\": 2, \"c\":3, \"d\":4}) # 사전의 형태 가능\n",
    "S"
   ]
  },
  {
   "cell_type": "code",
   "execution_count": 6,
   "metadata": {},
   "outputs": [
    {
     "data": {
      "text/plain": [
       "a    1\n",
       "b    2\n",
       "c    3\n",
       "d    4\n",
       "dtype: int64"
      ]
     },
     "execution_count": 6,
     "metadata": {},
     "output_type": "execute_result"
    }
   ],
   "source": [
    "S = pd.Series([1, 2, 3, 4], index = ['a', 'b', 'c', 'd']) # 데이터를 리스트로 만든 뒤, 인덱스 부여 가능. \n",
    "S"
   ]
  },
  {
   "cell_type": "code",
   "execution_count": 4,
   "metadata": {},
   "outputs": [
    {
     "data": {
      "text/plain": [
       "0    1\n",
       "1    2\n",
       "2    3\n",
       "3    4\n",
       "dtype: int64"
      ]
     },
     "execution_count": 4,
     "metadata": {},
     "output_type": "execute_result"
    }
   ],
   "source": [
    "S = pd.Series([1, 2, 3, 4]) # 인덱스 부여하지 않으면 자동 인덱스 부여됨. 0부터 시작 함. \n",
    "S"
   ]
  },
  {
   "cell_type": "code",
   "execution_count": 4,
   "metadata": {},
   "outputs": [
    {
     "data": {
      "text/plain": [
       "array([1, 2, 3, 4], dtype=int64)"
      ]
     },
     "execution_count": 4,
     "metadata": {},
     "output_type": "execute_result"
    }
   ],
   "source": [
    "S.values  # dictionary.values()와 유사함. ndarray값이 부여됨. "
   ]
  },
  {
   "cell_type": "code",
   "execution_count": 5,
   "metadata": {
    "scrolled": true
   },
   "outputs": [
    {
     "data": {
      "text/plain": [
       "numpy.ndarray"
      ]
     },
     "execution_count": 5,
     "metadata": {},
     "output_type": "execute_result"
    }
   ],
   "source": [
    "type(S.values)"
   ]
  },
  {
   "cell_type": "code",
   "execution_count": 10,
   "metadata": {},
   "outputs": [
    {
     "data": {
      "text/plain": [
       "RangeIndex(start=0, stop=4, step=1)"
      ]
     },
     "execution_count": 10,
     "metadata": {},
     "output_type": "execute_result"
    }
   ],
   "source": [
    "S.index\n"
   ]
  },
  {
   "cell_type": "code",
   "execution_count": 11,
   "metadata": {},
   "outputs": [
    {
     "data": {
      "text/plain": [
       "0     1\n",
       "1     4\n",
       "2     9\n",
       "3    16\n",
       "dtype: int64"
      ]
     },
     "execution_count": 11,
     "metadata": {},
     "output_type": "execute_result"
    }
   ],
   "source": [
    "S ** 2 # 유니버설 함수와 브로드캐스팅이 적용됨"
   ]
  },
  {
   "cell_type": "markdown",
   "metadata": {},
   "source": [
    "#### DataFrame 기본"
   ]
  },
  {
   "cell_type": "code",
   "execution_count": 14,
   "metadata": {},
   "outputs": [],
   "source": [
    "# 사전 이용 정의\n",
    "df = pd.DataFrame({\"col1\": [1, 2, 3, 4],\n",
    "                  \"col2\": [5, 6, 7, 8]}, \n",
    "                  index = ['a', 'b', 'c', 'd'])"
   ]
  },
  {
   "cell_type": "code",
   "execution_count": 16,
   "metadata": {},
   "outputs": [
    {
     "data": {
      "text/html": [
       "<div>\n",
       "<style scoped>\n",
       "    .dataframe tbody tr th:only-of-type {\n",
       "        vertical-align: middle;\n",
       "    }\n",
       "\n",
       "    .dataframe tbody tr th {\n",
       "        vertical-align: top;\n",
       "    }\n",
       "\n",
       "    .dataframe thead th {\n",
       "        text-align: right;\n",
       "    }\n",
       "</style>\n",
       "<table border=\"1\" class=\"dataframe\">\n",
       "  <thead>\n",
       "    <tr style=\"text-align: right;\">\n",
       "      <th></th>\n",
       "      <th>col1</th>\n",
       "      <th>col2</th>\n",
       "    </tr>\n",
       "  </thead>\n",
       "  <tbody>\n",
       "    <tr>\n",
       "      <th>a</th>\n",
       "      <td>1</td>\n",
       "      <td>5</td>\n",
       "    </tr>\n",
       "    <tr>\n",
       "      <th>b</th>\n",
       "      <td>2</td>\n",
       "      <td>6</td>\n",
       "    </tr>\n",
       "    <tr>\n",
       "      <th>c</th>\n",
       "      <td>3</td>\n",
       "      <td>7</td>\n",
       "    </tr>\n",
       "    <tr>\n",
       "      <th>d</th>\n",
       "      <td>4</td>\n",
       "      <td>8</td>\n",
       "    </tr>\n",
       "  </tbody>\n",
       "</table>\n",
       "</div>"
      ],
      "text/plain": [
       "   col1  col2\n",
       "a     1     5\n",
       "b     2     6\n",
       "c     3     7\n",
       "d     4     8"
      ]
     },
     "execution_count": 16,
     "metadata": {},
     "output_type": "execute_result"
    }
   ],
   "source": [
    "df"
   ]
  },
  {
   "cell_type": "code",
   "execution_count": 15,
   "metadata": {},
   "outputs": [
    {
     "data": {
      "text/plain": [
       "array([[1, 5],\n",
       "       [2, 6],\n",
       "       [3, 7],\n",
       "       [4, 8]], dtype=int64)"
      ]
     },
     "execution_count": 15,
     "metadata": {},
     "output_type": "execute_result"
    }
   ],
   "source": [
    "df.values"
   ]
  },
  {
   "cell_type": "code",
   "execution_count": 10,
   "metadata": {},
   "outputs": [
    {
     "data": {
      "text/plain": [
       "numpy.ndarray"
      ]
     },
     "execution_count": 10,
     "metadata": {},
     "output_type": "execute_result"
    }
   ],
   "source": [
    "type(df.values)"
   ]
  },
  {
   "cell_type": "code",
   "execution_count": 18,
   "metadata": {},
   "outputs": [
    {
     "data": {
      "text/plain": [
       "Index(['a', 'b', 'c', 'd'], dtype='object')"
      ]
     },
     "execution_count": 18,
     "metadata": {},
     "output_type": "execute_result"
    }
   ],
   "source": [
    "df.index # 행 인덱스 출력"
   ]
  },
  {
   "cell_type": "code",
   "execution_count": 19,
   "metadata": {},
   "outputs": [
    {
     "data": {
      "text/plain": [
       "Index(['col1', 'col2'], dtype='object')"
      ]
     },
     "execution_count": 19,
     "metadata": {},
     "output_type": "execute_result"
    }
   ],
   "source": [
    "df.columns # 컬럼들을 출력"
   ]
  },
  {
   "cell_type": "code",
   "execution_count": 20,
   "metadata": {},
   "outputs": [
    {
     "data": {
      "text/plain": [
       "pandas.core.series.Series"
      ]
     },
     "execution_count": 20,
     "metadata": {},
     "output_type": "execute_result"
    }
   ],
   "source": [
    "type(df['col1'])"
   ]
  },
  {
   "attachments": {
    "b2187d0f-155a-4693-b3b6-17bbc621b37a.png": {
     "image/png": "[encoded data removed]"
    }
   },
   "cell_type": "markdown",
   "metadata": {},
   "source": [
    "#### 인덱싱과 슬라이싱\n",
    "![image.png](attachment:b2187d0f-155a-4693-b3b6-17bbc621b37a.png)\n",
    "시작과 끝자리에 별다른 숫자를 부여하지 않으면, 기본값으로 맨처음, 맨마지막 값이 부여된다. "
   ]
  },
  {
   "cell_type": "code",
   "execution_count": 21,
   "metadata": {},
   "outputs": [
    {
     "data": {
      "text/plain": [
       "0    1\n",
       "1    2\n",
       "2    3\n",
       "3    4\n",
       "dtype: int64"
      ]
     },
     "execution_count": 21,
     "metadata": {},
     "output_type": "execute_result"
    }
   ],
   "source": [
    "S"
   ]
  },
  {
   "cell_type": "code",
   "execution_count": 22,
   "metadata": {
    "collapsed": true,
    "jupyter": {
     "outputs_hidden": true
    }
   },
   "outputs": [
    {
     "ename": "KeyError",
     "evalue": "'a'",
     "output_type": "error",
     "traceback": [
      "\u001b[1;31m---------------------------------------------------------------------------\u001b[0m",
      "\u001b[1;31mKeyError\u001b[0m                                  Traceback (most recent call last)",
      "\u001b[1;32m<ipython-input-22-539e39ace262>\u001b[0m in \u001b[0;36m<module>\u001b[1;34m\u001b[0m\n\u001b[1;32m----> 1\u001b[1;33m \u001b[0mS\u001b[0m\u001b[1;33m.\u001b[0m\u001b[0mloc\u001b[0m\u001b[1;33m[\u001b[0m\u001b[1;34m'a'\u001b[0m\u001b[1;33m]\u001b[0m \u001b[1;31m# 사전에서 키를 가지고 값을 찾는 것과 완벽히 동일\u001b[0m\u001b[1;33m\u001b[0m\u001b[1;33m\u001b[0m\u001b[0m\n\u001b[0m",
      "\u001b[1;32m~\\anaconda3\\lib\\site-packages\\pandas\\core\\indexing.py\u001b[0m in \u001b[0;36m__getitem__\u001b[1;34m(self, key)\u001b[0m\n\u001b[0;32m    877\u001b[0m \u001b[1;33m\u001b[0m\u001b[0m\n\u001b[0;32m    878\u001b[0m             \u001b[0mmaybe_callable\u001b[0m \u001b[1;33m=\u001b[0m \u001b[0mcom\u001b[0m\u001b[1;33m.\u001b[0m\u001b[0mapply_if_callable\u001b[0m\u001b[1;33m(\u001b[0m\u001b[0mkey\u001b[0m\u001b[1;33m,\u001b[0m \u001b[0mself\u001b[0m\u001b[1;33m.\u001b[0m\u001b[0mobj\u001b[0m\u001b[1;33m)\u001b[0m\u001b[1;33m\u001b[0m\u001b[1;33m\u001b[0m\u001b[0m\n\u001b[1;32m--> 879\u001b[1;33m             \u001b[1;32mreturn\u001b[0m \u001b[0mself\u001b[0m\u001b[1;33m.\u001b[0m\u001b[0m_getitem_axis\u001b[0m\u001b[1;33m(\u001b[0m\u001b[0mmaybe_callable\u001b[0m\u001b[1;33m,\u001b[0m \u001b[0maxis\u001b[0m\u001b[1;33m=\u001b[0m\u001b[0maxis\u001b[0m\u001b[1;33m)\u001b[0m\u001b[1;33m\u001b[0m\u001b[1;33m\u001b[0m\u001b[0m\n\u001b[0m\u001b[0;32m    880\u001b[0m \u001b[1;33m\u001b[0m\u001b[0m\n\u001b[0;32m    881\u001b[0m     \u001b[1;32mdef\u001b[0m \u001b[0m_is_scalar_access\u001b[0m\u001b[1;33m(\u001b[0m\u001b[0mself\u001b[0m\u001b[1;33m,\u001b[0m \u001b[0mkey\u001b[0m\u001b[1;33m:\u001b[0m \u001b[0mTuple\u001b[0m\u001b[1;33m)\u001b[0m\u001b[1;33m:\u001b[0m\u001b[1;33m\u001b[0m\u001b[1;33m\u001b[0m\u001b[0m\n",
      "\u001b[1;32m~\\anaconda3\\lib\\site-packages\\pandas\\core\\indexing.py\u001b[0m in \u001b[0;36m_getitem_axis\u001b[1;34m(self, key, axis)\u001b[0m\n\u001b[0;32m   1108\u001b[0m         \u001b[1;31m# fall thru to straight lookup\u001b[0m\u001b[1;33m\u001b[0m\u001b[1;33m\u001b[0m\u001b[1;33m\u001b[0m\u001b[0m\n\u001b[0;32m   1109\u001b[0m         \u001b[0mself\u001b[0m\u001b[1;33m.\u001b[0m\u001b[0m_validate_key\u001b[0m\u001b[1;33m(\u001b[0m\u001b[0mkey\u001b[0m\u001b[1;33m,\u001b[0m \u001b[0maxis\u001b[0m\u001b[1;33m)\u001b[0m\u001b[1;33m\u001b[0m\u001b[1;33m\u001b[0m\u001b[0m\n\u001b[1;32m-> 1110\u001b[1;33m         \u001b[1;32mreturn\u001b[0m \u001b[0mself\u001b[0m\u001b[1;33m.\u001b[0m\u001b[0m_get_label\u001b[0m\u001b[1;33m(\u001b[0m\u001b[0mkey\u001b[0m\u001b[1;33m,\u001b[0m \u001b[0maxis\u001b[0m\u001b[1;33m=\u001b[0m\u001b[0maxis\u001b[0m\u001b[1;33m)\u001b[0m\u001b[1;33m\u001b[0m\u001b[1;33m\u001b[0m\u001b[0m\n\u001b[0m\u001b[0;32m   1111\u001b[0m \u001b[1;33m\u001b[0m\u001b[0m\n\u001b[0;32m   1112\u001b[0m     \u001b[1;32mdef\u001b[0m \u001b[0m_get_slice_axis\u001b[0m\u001b[1;33m(\u001b[0m\u001b[0mself\u001b[0m\u001b[1;33m,\u001b[0m \u001b[0mslice_obj\u001b[0m\u001b[1;33m:\u001b[0m \u001b[0mslice\u001b[0m\u001b[1;33m,\u001b[0m \u001b[0maxis\u001b[0m\u001b[1;33m:\u001b[0m \u001b[0mint\u001b[0m\u001b[1;33m)\u001b[0m\u001b[1;33m:\u001b[0m\u001b[1;33m\u001b[0m\u001b[1;33m\u001b[0m\u001b[0m\n",
      "\u001b[1;32m~\\anaconda3\\lib\\site-packages\\pandas\\core\\indexing.py\u001b[0m in \u001b[0;36m_get_label\u001b[1;34m(self, label, axis)\u001b[0m\n\u001b[0;32m   1057\u001b[0m     \u001b[1;32mdef\u001b[0m \u001b[0m_get_label\u001b[0m\u001b[1;33m(\u001b[0m\u001b[0mself\u001b[0m\u001b[1;33m,\u001b[0m \u001b[0mlabel\u001b[0m\u001b[1;33m,\u001b[0m \u001b[0maxis\u001b[0m\u001b[1;33m:\u001b[0m \u001b[0mint\u001b[0m\u001b[1;33m)\u001b[0m\u001b[1;33m:\u001b[0m\u001b[1;33m\u001b[0m\u001b[1;33m\u001b[0m\u001b[0m\n\u001b[0;32m   1058\u001b[0m         \u001b[1;31m# GH#5667 this will fail if the label is not present in the axis.\u001b[0m\u001b[1;33m\u001b[0m\u001b[1;33m\u001b[0m\u001b[1;33m\u001b[0m\u001b[0m\n\u001b[1;32m-> 1059\u001b[1;33m         \u001b[1;32mreturn\u001b[0m \u001b[0mself\u001b[0m\u001b[1;33m.\u001b[0m\u001b[0mobj\u001b[0m\u001b[1;33m.\u001b[0m\u001b[0mxs\u001b[0m\u001b[1;33m(\u001b[0m\u001b[0mlabel\u001b[0m\u001b[1;33m,\u001b[0m \u001b[0maxis\u001b[0m\u001b[1;33m=\u001b[0m\u001b[0maxis\u001b[0m\u001b[1;33m)\u001b[0m\u001b[1;33m\u001b[0m\u001b[1;33m\u001b[0m\u001b[0m\n\u001b[0m\u001b[0;32m   1060\u001b[0m \u001b[1;33m\u001b[0m\u001b[0m\n\u001b[0;32m   1061\u001b[0m     \u001b[1;32mdef\u001b[0m \u001b[0m_handle_lowerdim_multi_index_axis0\u001b[0m\u001b[1;33m(\u001b[0m\u001b[0mself\u001b[0m\u001b[1;33m,\u001b[0m \u001b[0mtup\u001b[0m\u001b[1;33m:\u001b[0m \u001b[0mTuple\u001b[0m\u001b[1;33m)\u001b[0m\u001b[1;33m:\u001b[0m\u001b[1;33m\u001b[0m\u001b[1;33m\u001b[0m\u001b[0m\n",
      "\u001b[1;32m~\\anaconda3\\lib\\site-packages\\pandas\\core\\generic.py\u001b[0m in \u001b[0;36mxs\u001b[1;34m(self, key, axis, level, drop_level)\u001b[0m\n\u001b[0;32m   3489\u001b[0m             \u001b[0mloc\u001b[0m\u001b[1;33m,\u001b[0m \u001b[0mnew_index\u001b[0m \u001b[1;33m=\u001b[0m \u001b[0mself\u001b[0m\u001b[1;33m.\u001b[0m\u001b[0mindex\u001b[0m\u001b[1;33m.\u001b[0m\u001b[0mget_loc_level\u001b[0m\u001b[1;33m(\u001b[0m\u001b[0mkey\u001b[0m\u001b[1;33m,\u001b[0m \u001b[0mdrop_level\u001b[0m\u001b[1;33m=\u001b[0m\u001b[0mdrop_level\u001b[0m\u001b[1;33m)\u001b[0m\u001b[1;33m\u001b[0m\u001b[1;33m\u001b[0m\u001b[0m\n\u001b[0;32m   3490\u001b[0m         \u001b[1;32melse\u001b[0m\u001b[1;33m:\u001b[0m\u001b[1;33m\u001b[0m\u001b[1;33m\u001b[0m\u001b[0m\n\u001b[1;32m-> 3491\u001b[1;33m             \u001b[0mloc\u001b[0m \u001b[1;33m=\u001b[0m \u001b[0mself\u001b[0m\u001b[1;33m.\u001b[0m\u001b[0mindex\u001b[0m\u001b[1;33m.\u001b[0m\u001b[0mget_loc\u001b[0m\u001b[1;33m(\u001b[0m\u001b[0mkey\u001b[0m\u001b[1;33m)\u001b[0m\u001b[1;33m\u001b[0m\u001b[1;33m\u001b[0m\u001b[0m\n\u001b[0m\u001b[0;32m   3492\u001b[0m \u001b[1;33m\u001b[0m\u001b[0m\n\u001b[0;32m   3493\u001b[0m             \u001b[1;32mif\u001b[0m \u001b[0misinstance\u001b[0m\u001b[1;33m(\u001b[0m\u001b[0mloc\u001b[0m\u001b[1;33m,\u001b[0m \u001b[0mnp\u001b[0m\u001b[1;33m.\u001b[0m\u001b[0mndarray\u001b[0m\u001b[1;33m)\u001b[0m\u001b[1;33m:\u001b[0m\u001b[1;33m\u001b[0m\u001b[1;33m\u001b[0m\u001b[0m\n",
      "\u001b[1;32m~\\anaconda3\\lib\\site-packages\\pandas\\core\\indexes\\range.py\u001b[0m in \u001b[0;36mget_loc\u001b[1;34m(self, key, method, tolerance)\u001b[0m\n\u001b[0;32m    356\u001b[0m                 \u001b[1;32mexcept\u001b[0m \u001b[0mValueError\u001b[0m \u001b[1;32mas\u001b[0m \u001b[0merr\u001b[0m\u001b[1;33m:\u001b[0m\u001b[1;33m\u001b[0m\u001b[1;33m\u001b[0m\u001b[0m\n\u001b[0;32m    357\u001b[0m                     \u001b[1;32mraise\u001b[0m \u001b[0mKeyError\u001b[0m\u001b[1;33m(\u001b[0m\u001b[0mkey\u001b[0m\u001b[1;33m)\u001b[0m \u001b[1;32mfrom\u001b[0m \u001b[0merr\u001b[0m\u001b[1;33m\u001b[0m\u001b[1;33m\u001b[0m\u001b[0m\n\u001b[1;32m--> 358\u001b[1;33m             \u001b[1;32mraise\u001b[0m \u001b[0mKeyError\u001b[0m\u001b[1;33m(\u001b[0m\u001b[0mkey\u001b[0m\u001b[1;33m)\u001b[0m\u001b[1;33m\u001b[0m\u001b[1;33m\u001b[0m\u001b[0m\n\u001b[0m\u001b[0;32m    359\u001b[0m         \u001b[1;32mreturn\u001b[0m \u001b[0msuper\u001b[0m\u001b[1;33m(\u001b[0m\u001b[1;33m)\u001b[0m\u001b[1;33m.\u001b[0m\u001b[0mget_loc\u001b[0m\u001b[1;33m(\u001b[0m\u001b[0mkey\u001b[0m\u001b[1;33m,\u001b[0m \u001b[0mmethod\u001b[0m\u001b[1;33m=\u001b[0m\u001b[0mmethod\u001b[0m\u001b[1;33m,\u001b[0m \u001b[0mtolerance\u001b[0m\u001b[1;33m=\u001b[0m\u001b[0mtolerance\u001b[0m\u001b[1;33m)\u001b[0m\u001b[1;33m\u001b[0m\u001b[1;33m\u001b[0m\u001b[0m\n\u001b[0;32m    360\u001b[0m \u001b[1;33m\u001b[0m\u001b[0m\n",
      "\u001b[1;31mKeyError\u001b[0m: 'a'"
     ]
    }
   ],
   "source": [
    "S.loc['a'] # 사전에서 키를 가지고 값을 찾는 것과 완벽히 동일"
   ]
  },
  {
   "cell_type": "code",
   "execution_count": 23,
   "metadata": {},
   "outputs": [
    {
     "data": {
      "text/plain": [
       "3"
      ]
     },
     "execution_count": 23,
     "metadata": {},
     "output_type": "execute_result"
    }
   ],
   "source": [
    "S.iloc[2]"
   ]
  },
  {
   "cell_type": "code",
   "execution_count": 31,
   "metadata": {},
   "outputs": [
    {
     "data": {
      "text/plain": [
       "Series([], dtype: int64)"
      ]
     },
     "execution_count": 31,
     "metadata": {},
     "output_type": "execute_result"
    }
   ],
   "source": [
    "S.loc['a':'c']"
   ]
  },
  {
   "cell_type": "code",
   "execution_count": 25,
   "metadata": {},
   "outputs": [
    {
     "data": {
      "text/plain": [
       "1    2\n",
       "2    3\n",
       "dtype: int64"
      ]
     },
     "execution_count": 25,
     "metadata": {},
     "output_type": "execute_result"
    }
   ],
   "source": [
    "S.iloc[1:3]"
   ]
  },
  {
   "cell_type": "code",
   "execution_count": 11,
   "metadata": {},
   "outputs": [
    {
     "data": {
      "text/html": [
       "<div>\n",
       "<style scoped>\n",
       "    .dataframe tbody tr th:only-of-type {\n",
       "        vertical-align: middle;\n",
       "    }\n",
       "\n",
       "    .dataframe tbody tr th {\n",
       "        vertical-align: top;\n",
       "    }\n",
       "\n",
       "    .dataframe thead th {\n",
       "        text-align: right;\n",
       "    }\n",
       "</style>\n",
       "<table border=\"1\" class=\"dataframe\">\n",
       "  <thead>\n",
       "    <tr style=\"text-align: right;\">\n",
       "      <th></th>\n",
       "      <th>col1</th>\n",
       "      <th>col2</th>\n",
       "    </tr>\n",
       "  </thead>\n",
       "  <tbody>\n",
       "    <tr>\n",
       "      <th>a</th>\n",
       "      <td>1</td>\n",
       "      <td>5</td>\n",
       "    </tr>\n",
       "    <tr>\n",
       "      <th>b</th>\n",
       "      <td>2</td>\n",
       "      <td>6</td>\n",
       "    </tr>\n",
       "    <tr>\n",
       "      <th>c</th>\n",
       "      <td>3</td>\n",
       "      <td>7</td>\n",
       "    </tr>\n",
       "    <tr>\n",
       "      <th>d</th>\n",
       "      <td>4</td>\n",
       "      <td>8</td>\n",
       "    </tr>\n",
       "  </tbody>\n",
       "</table>\n",
       "</div>"
      ],
      "text/plain": [
       "   col1  col2\n",
       "a     1     5\n",
       "b     2     6\n",
       "c     3     7\n",
       "d     4     8"
      ]
     },
     "execution_count": 11,
     "metadata": {},
     "output_type": "execute_result"
    }
   ],
   "source": [
    "df"
   ]
  },
  {
   "cell_type": "code",
   "execution_count": 19,
   "metadata": {},
   "outputs": [
    {
     "data": {
      "text/html": [
       "<div>\n",
       "<style scoped>\n",
       "    .dataframe tbody tr th:only-of-type {\n",
       "        vertical-align: middle;\n",
       "    }\n",
       "\n",
       "    .dataframe tbody tr th {\n",
       "        vertical-align: top;\n",
       "    }\n",
       "\n",
       "    .dataframe thead th {\n",
       "        text-align: right;\n",
       "    }\n",
       "</style>\n",
       "<table border=\"1\" class=\"dataframe\">\n",
       "  <thead>\n",
       "    <tr style=\"text-align: right;\">\n",
       "      <th></th>\n",
       "      <th>col1</th>\n",
       "      <th>col2</th>\n",
       "    </tr>\n",
       "  </thead>\n",
       "  <tbody>\n",
       "    <tr>\n",
       "      <th>a</th>\n",
       "      <td>1</td>\n",
       "      <td>5</td>\n",
       "    </tr>\n",
       "    <tr>\n",
       "      <th>b</th>\n",
       "      <td>2</td>\n",
       "      <td>6</td>\n",
       "    </tr>\n",
       "    <tr>\n",
       "      <th>c</th>\n",
       "      <td>3</td>\n",
       "      <td>7</td>\n",
       "    </tr>\n",
       "    <tr>\n",
       "      <th>d</th>\n",
       "      <td>4</td>\n",
       "      <td>8</td>\n",
       "    </tr>\n",
       "  </tbody>\n",
       "</table>\n",
       "</div>"
      ],
      "text/plain": [
       "   col1  col2\n",
       "a     1     5\n",
       "b     2     6\n",
       "c     3     7\n",
       "d     4     8"
      ]
     },
     "execution_count": 19,
     "metadata": {},
     "output_type": "execute_result"
    }
   ],
   "source": [
    "df[['col1', 'col2']]"
   ]
  },
  {
   "cell_type": "code",
   "execution_count": 12,
   "metadata": {},
   "outputs": [
    {
     "data": {
      "text/plain": [
       "a    1\n",
       "b    2\n",
       "c    3\n",
       "d    4\n",
       "Name: col1, dtype: int64"
      ]
     },
     "execution_count": 12,
     "metadata": {},
     "output_type": "execute_result"
    }
   ],
   "source": [
    "df['col1'] # column name => Series"
   ]
  },
  {
   "cell_type": "code",
   "execution_count": 33,
   "metadata": {},
   "outputs": [
    {
     "data": {
      "text/html": [
       "<div>\n",
       "<style scoped>\n",
       "    .dataframe tbody tr th:only-of-type {\n",
       "        vertical-align: middle;\n",
       "    }\n",
       "\n",
       "    .dataframe tbody tr th {\n",
       "        vertical-align: top;\n",
       "    }\n",
       "\n",
       "    .dataframe thead th {\n",
       "        text-align: right;\n",
       "    }\n",
       "</style>\n",
       "<table border=\"1\" class=\"dataframe\">\n",
       "  <thead>\n",
       "    <tr style=\"text-align: right;\">\n",
       "      <th></th>\n",
       "      <th>col1</th>\n",
       "      <th>col2</th>\n",
       "    </tr>\n",
       "  </thead>\n",
       "  <tbody>\n",
       "    <tr>\n",
       "      <th>a</th>\n",
       "      <td>1</td>\n",
       "      <td>5</td>\n",
       "    </tr>\n",
       "    <tr>\n",
       "      <th>b</th>\n",
       "      <td>2</td>\n",
       "      <td>6</td>\n",
       "    </tr>\n",
       "    <tr>\n",
       "      <th>c</th>\n",
       "      <td>3</td>\n",
       "      <td>7</td>\n",
       "    </tr>\n",
       "    <tr>\n",
       "      <th>d</th>\n",
       "      <td>4</td>\n",
       "      <td>8</td>\n",
       "    </tr>\n",
       "  </tbody>\n",
       "</table>\n",
       "</div>"
      ],
      "text/plain": [
       "   col1  col2\n",
       "a     1     5\n",
       "b     2     6\n",
       "c     3     7\n",
       "d     4     8"
      ]
     },
     "execution_count": 33,
     "metadata": {},
     "output_type": "execute_result"
    }
   ],
   "source": [
    "df[['col1', 'col2']] # column name list => Data Frame. "
   ]
  },
  {
   "cell_type": "code",
   "execution_count": 34,
   "metadata": {},
   "outputs": [
    {
     "data": {
      "text/plain": [
       "5"
      ]
     },
     "execution_count": 34,
     "metadata": {},
     "output_type": "execute_result"
    }
   ],
   "source": [
    "df.loc['a', 'col2']"
   ]
  },
  {
   "cell_type": "code",
   "execution_count": 35,
   "metadata": {},
   "outputs": [
    {
     "data": {
      "text/plain": [
       "a    1\n",
       "b    2\n",
       "c    3\n",
       "Name: col1, dtype: int64"
      ]
     },
     "execution_count": 35,
     "metadata": {},
     "output_type": "execute_result"
    }
   ],
   "source": [
    "df.loc['a':'c', 'col1']"
   ]
  },
  {
   "cell_type": "code",
   "execution_count": 37,
   "metadata": {},
   "outputs": [
    {
     "data": {
      "text/plain": [
       "b    6\n",
       "c    7\n",
       "Name: col2, dtype: int64"
      ]
     },
     "execution_count": 37,
     "metadata": {},
     "output_type": "execute_result"
    }
   ],
   "source": [
    "df.iloc[1:3, 1]  # 명시적 인덱스가 부여되어 있더라도 암묵적으로는 숫자가 부여되어 있다. 그래서 iloc을 통해서 숫자로 인덱싱이 가능한 것이다. "
   ]
  },
  {
   "cell_type": "markdown",
   "metadata": {},
   "source": [
    "#### 값 조회하기"
   ]
  },
  {
   "cell_type": "code",
   "execution_count": 18,
   "metadata": {},
   "outputs": [],
   "source": [
    "# 모든 행과 모든 열을 보여주기\n",
    "pd.set_option('display.max_rows', None) # none 자리에는 출력하고 싶은 행과 열의 개수를 지정하는 자리이다. \n",
    "pd.set_option('display.max_columns', None)"
   ]
  },
  {
   "cell_type": "code",
   "execution_count": 38,
   "metadata": {},
   "outputs": [
    {
     "data": {
      "text/html": [
       "<div>\n",
       "<style scoped>\n",
       "    .dataframe tbody tr th:only-of-type {\n",
       "        vertical-align: middle;\n",
       "    }\n",
       "\n",
       "    .dataframe tbody tr th {\n",
       "        vertical-align: top;\n",
       "    }\n",
       "\n",
       "    .dataframe thead th {\n",
       "        text-align: right;\n",
       "    }\n",
       "</style>\n",
       "<table border=\"1\" class=\"dataframe\">\n",
       "  <thead>\n",
       "    <tr style=\"text-align: right;\">\n",
       "      <th></th>\n",
       "      <th>X1</th>\n",
       "      <th>X2</th>\n",
       "      <th>X3</th>\n",
       "      <th>X4</th>\n",
       "      <th>X5</th>\n",
       "    </tr>\n",
       "  </thead>\n",
       "  <tbody>\n",
       "    <tr>\n",
       "      <th>0</th>\n",
       "      <td>0.632122</td>\n",
       "      <td>0.704195</td>\n",
       "      <td>0.005282</td>\n",
       "      <td>0.439054</td>\n",
       "      <td>0.796572</td>\n",
       "    </tr>\n",
       "    <tr>\n",
       "      <th>1</th>\n",
       "      <td>0.434126</td>\n",
       "      <td>0.543274</td>\n",
       "      <td>0.319591</td>\n",
       "      <td>0.291103</td>\n",
       "      <td>0.459640</td>\n",
       "    </tr>\n",
       "    <tr>\n",
       "      <th>2</th>\n",
       "      <td>0.997208</td>\n",
       "      <td>0.744636</td>\n",
       "      <td>0.635731</td>\n",
       "      <td>0.516120</td>\n",
       "      <td>0.004685</td>\n",
       "    </tr>\n",
       "    <tr>\n",
       "      <th>3</th>\n",
       "      <td>0.526803</td>\n",
       "      <td>0.912069</td>\n",
       "      <td>0.835927</td>\n",
       "      <td>0.706832</td>\n",
       "      <td>0.343625</td>\n",
       "    </tr>\n",
       "    <tr>\n",
       "      <th>4</th>\n",
       "      <td>0.054502</td>\n",
       "      <td>0.202613</td>\n",
       "      <td>0.668503</td>\n",
       "      <td>0.267899</td>\n",
       "      <td>0.860569</td>\n",
       "    </tr>\n",
       "    <tr>\n",
       "      <th>...</th>\n",
       "      <td>...</td>\n",
       "      <td>...</td>\n",
       "      <td>...</td>\n",
       "      <td>...</td>\n",
       "      <td>...</td>\n",
       "    </tr>\n",
       "    <tr>\n",
       "      <th>495</th>\n",
       "      <td>0.784389</td>\n",
       "      <td>0.779756</td>\n",
       "      <td>0.079226</td>\n",
       "      <td>0.485198</td>\n",
       "      <td>0.947452</td>\n",
       "    </tr>\n",
       "    <tr>\n",
       "      <th>496</th>\n",
       "      <td>0.071345</td>\n",
       "      <td>0.182829</td>\n",
       "      <td>0.420931</td>\n",
       "      <td>0.539671</td>\n",
       "      <td>0.432224</td>\n",
       "    </tr>\n",
       "    <tr>\n",
       "      <th>497</th>\n",
       "      <td>0.405620</td>\n",
       "      <td>0.262082</td>\n",
       "      <td>0.768992</td>\n",
       "      <td>0.718252</td>\n",
       "      <td>0.076568</td>\n",
       "    </tr>\n",
       "    <tr>\n",
       "      <th>498</th>\n",
       "      <td>0.742086</td>\n",
       "      <td>0.819284</td>\n",
       "      <td>0.198197</td>\n",
       "      <td>0.090925</td>\n",
       "      <td>0.964067</td>\n",
       "    </tr>\n",
       "    <tr>\n",
       "      <th>499</th>\n",
       "      <td>0.684050</td>\n",
       "      <td>0.520143</td>\n",
       "      <td>0.560266</td>\n",
       "      <td>0.687801</td>\n",
       "      <td>0.628606</td>\n",
       "    </tr>\n",
       "  </tbody>\n",
       "</table>\n",
       "<p>500 rows × 5 columns</p>\n",
       "</div>"
      ],
      "text/plain": [
       "           X1        X2        X3        X4        X5\n",
       "0    0.632122  0.704195  0.005282  0.439054  0.796572\n",
       "1    0.434126  0.543274  0.319591  0.291103  0.459640\n",
       "2    0.997208  0.744636  0.635731  0.516120  0.004685\n",
       "3    0.526803  0.912069  0.835927  0.706832  0.343625\n",
       "4    0.054502  0.202613  0.668503  0.267899  0.860569\n",
       "..        ...       ...       ...       ...       ...\n",
       "495  0.784389  0.779756  0.079226  0.485198  0.947452\n",
       "496  0.071345  0.182829  0.420931  0.539671  0.432224\n",
       "497  0.405620  0.262082  0.768992  0.718252  0.076568\n",
       "498  0.742086  0.819284  0.198197  0.090925  0.964067\n",
       "499  0.684050  0.520143  0.560266  0.687801  0.628606\n",
       "\n",
       "[500 rows x 5 columns]"
      ]
     },
     "execution_count": 38,
     "metadata": {},
     "output_type": "execute_result"
    }
   ],
   "source": [
    "import numpy as np\n",
    "df = pd.DataFrame(np.random.random(size = (500, 5)),\n",
    "                 columns = ['X1', 'X2', 'X3', 'X4', 'X5'])\n",
    "df"
   ]
  },
  {
   "cell_type": "code",
   "execution_count": 39,
   "metadata": {},
   "outputs": [
    {
     "data": {
      "text/html": [
       "<div>\n",
       "<style scoped>\n",
       "    .dataframe tbody tr th:only-of-type {\n",
       "        vertical-align: middle;\n",
       "    }\n",
       "\n",
       "    .dataframe tbody tr th {\n",
       "        vertical-align: top;\n",
       "    }\n",
       "\n",
       "    .dataframe thead th {\n",
       "        text-align: right;\n",
       "    }\n",
       "</style>\n",
       "<table border=\"1\" class=\"dataframe\">\n",
       "  <thead>\n",
       "    <tr style=\"text-align: right;\">\n",
       "      <th></th>\n",
       "      <th>X1</th>\n",
       "      <th>X2</th>\n",
       "      <th>X3</th>\n",
       "      <th>X4</th>\n",
       "      <th>X5</th>\n",
       "    </tr>\n",
       "  </thead>\n",
       "  <tbody>\n",
       "    <tr>\n",
       "      <th>0</th>\n",
       "      <td>0.632122</td>\n",
       "      <td>0.704195</td>\n",
       "      <td>0.005282</td>\n",
       "      <td>0.439054</td>\n",
       "      <td>0.796572</td>\n",
       "    </tr>\n",
       "    <tr>\n",
       "      <th>1</th>\n",
       "      <td>0.434126</td>\n",
       "      <td>0.543274</td>\n",
       "      <td>0.319591</td>\n",
       "      <td>0.291103</td>\n",
       "      <td>0.459640</td>\n",
       "    </tr>\n",
       "    <tr>\n",
       "      <th>2</th>\n",
       "      <td>0.997208</td>\n",
       "      <td>0.744636</td>\n",
       "      <td>0.635731</td>\n",
       "      <td>0.516120</td>\n",
       "      <td>0.004685</td>\n",
       "    </tr>\n",
       "    <tr>\n",
       "      <th>3</th>\n",
       "      <td>0.526803</td>\n",
       "      <td>0.912069</td>\n",
       "      <td>0.835927</td>\n",
       "      <td>0.706832</td>\n",
       "      <td>0.343625</td>\n",
       "    </tr>\n",
       "    <tr>\n",
       "      <th>4</th>\n",
       "      <td>0.054502</td>\n",
       "      <td>0.202613</td>\n",
       "      <td>0.668503</td>\n",
       "      <td>0.267899</td>\n",
       "      <td>0.860569</td>\n",
       "    </tr>\n",
       "    <tr>\n",
       "      <th>...</th>\n",
       "      <td>...</td>\n",
       "      <td>...</td>\n",
       "      <td>...</td>\n",
       "      <td>...</td>\n",
       "      <td>...</td>\n",
       "    </tr>\n",
       "    <tr>\n",
       "      <th>495</th>\n",
       "      <td>0.784389</td>\n",
       "      <td>0.779756</td>\n",
       "      <td>0.079226</td>\n",
       "      <td>0.485198</td>\n",
       "      <td>0.947452</td>\n",
       "    </tr>\n",
       "    <tr>\n",
       "      <th>496</th>\n",
       "      <td>0.071345</td>\n",
       "      <td>0.182829</td>\n",
       "      <td>0.420931</td>\n",
       "      <td>0.539671</td>\n",
       "      <td>0.432224</td>\n",
       "    </tr>\n",
       "    <tr>\n",
       "      <th>497</th>\n",
       "      <td>0.405620</td>\n",
       "      <td>0.262082</td>\n",
       "      <td>0.768992</td>\n",
       "      <td>0.718252</td>\n",
       "      <td>0.076568</td>\n",
       "    </tr>\n",
       "    <tr>\n",
       "      <th>498</th>\n",
       "      <td>0.742086</td>\n",
       "      <td>0.819284</td>\n",
       "      <td>0.198197</td>\n",
       "      <td>0.090925</td>\n",
       "      <td>0.964067</td>\n",
       "    </tr>\n",
       "    <tr>\n",
       "      <th>499</th>\n",
       "      <td>0.684050</td>\n",
       "      <td>0.520143</td>\n",
       "      <td>0.560266</td>\n",
       "      <td>0.687801</td>\n",
       "      <td>0.628606</td>\n",
       "    </tr>\n",
       "  </tbody>\n",
       "</table>\n",
       "<p>500 rows × 5 columns</p>\n",
       "</div>"
      ],
      "text/plain": [
       "           X1        X2        X3        X4        X5\n",
       "0    0.632122  0.704195  0.005282  0.439054  0.796572\n",
       "1    0.434126  0.543274  0.319591  0.291103  0.459640\n",
       "2    0.997208  0.744636  0.635731  0.516120  0.004685\n",
       "3    0.526803  0.912069  0.835927  0.706832  0.343625\n",
       "4    0.054502  0.202613  0.668503  0.267899  0.860569\n",
       "..        ...       ...       ...       ...       ...\n",
       "495  0.784389  0.779756  0.079226  0.485198  0.947452\n",
       "496  0.071345  0.182829  0.420931  0.539671  0.432224\n",
       "497  0.405620  0.262082  0.768992  0.718252  0.076568\n",
       "498  0.742086  0.819284  0.198197  0.090925  0.964067\n",
       "499  0.684050  0.520143  0.560266  0.687801  0.628606\n",
       "\n",
       "[500 rows x 5 columns]"
      ]
     },
     "execution_count": 39,
     "metadata": {},
     "output_type": "execute_result"
    }
   ],
   "source": [
    "df"
   ]
  },
  {
   "cell_type": "code",
   "execution_count": 20,
   "metadata": {},
   "outputs": [
    {
     "data": {
      "text/html": [
       "<div>\n",
       "<style scoped>\n",
       "    .dataframe tbody tr th:only-of-type {\n",
       "        vertical-align: middle;\n",
       "    }\n",
       "\n",
       "    .dataframe tbody tr th {\n",
       "        vertical-align: top;\n",
       "    }\n",
       "\n",
       "    .dataframe thead th {\n",
       "        text-align: right;\n",
       "    }\n",
       "</style>\n",
       "<table border=\"1\" class=\"dataframe\">\n",
       "  <thead>\n",
       "    <tr style=\"text-align: right;\">\n",
       "      <th></th>\n",
       "      <th>X1</th>\n",
       "      <th>X2</th>\n",
       "      <th>X3</th>\n",
       "      <th>X4</th>\n",
       "      <th>X5</th>\n",
       "    </tr>\n",
       "  </thead>\n",
       "  <tbody>\n",
       "    <tr>\n",
       "      <th>0</th>\n",
       "      <td>0.360255</td>\n",
       "      <td>0.860208</td>\n",
       "      <td>0.310894</td>\n",
       "      <td>0.210855</td>\n",
       "      <td>0.366435</td>\n",
       "    </tr>\n",
       "    <tr>\n",
       "      <th>1</th>\n",
       "      <td>0.265531</td>\n",
       "      <td>0.592843</td>\n",
       "      <td>0.459606</td>\n",
       "      <td>0.610412</td>\n",
       "      <td>0.854391</td>\n",
       "    </tr>\n",
       "    <tr>\n",
       "      <th>2</th>\n",
       "      <td>0.862768</td>\n",
       "      <td>0.064806</td>\n",
       "      <td>0.947390</td>\n",
       "      <td>0.359989</td>\n",
       "      <td>0.103019</td>\n",
       "    </tr>\n",
       "    <tr>\n",
       "      <th>3</th>\n",
       "      <td>0.996828</td>\n",
       "      <td>0.405544</td>\n",
       "      <td>0.136605</td>\n",
       "      <td>0.877391</td>\n",
       "      <td>0.540334</td>\n",
       "    </tr>\n",
       "    <tr>\n",
       "      <th>4</th>\n",
       "      <td>0.623951</td>\n",
       "      <td>0.643929</td>\n",
       "      <td>0.194511</td>\n",
       "      <td>0.924403</td>\n",
       "      <td>0.268549</td>\n",
       "    </tr>\n",
       "  </tbody>\n",
       "</table>\n",
       "</div>"
      ],
      "text/plain": [
       "         X1        X2        X3        X4        X5\n",
       "0  0.360255  0.860208  0.310894  0.210855  0.366435\n",
       "1  0.265531  0.592843  0.459606  0.610412  0.854391\n",
       "2  0.862768  0.064806  0.947390  0.359989  0.103019\n",
       "3  0.996828  0.405544  0.136605  0.877391  0.540334\n",
       "4  0.623951  0.643929  0.194511  0.924403  0.268549"
      ]
     },
     "execution_count": 20,
     "metadata": {},
     "output_type": "execute_result"
    }
   ],
   "source": [
    "df.head()"
   ]
  },
  {
   "cell_type": "code",
   "execution_count": 21,
   "metadata": {},
   "outputs": [
    {
     "data": {
      "text/html": [
       "<div>\n",
       "<style scoped>\n",
       "    .dataframe tbody tr th:only-of-type {\n",
       "        vertical-align: middle;\n",
       "    }\n",
       "\n",
       "    .dataframe tbody tr th {\n",
       "        vertical-align: top;\n",
       "    }\n",
       "\n",
       "    .dataframe thead th {\n",
       "        text-align: right;\n",
       "    }\n",
       "</style>\n",
       "<table border=\"1\" class=\"dataframe\">\n",
       "  <thead>\n",
       "    <tr style=\"text-align: right;\">\n",
       "      <th></th>\n",
       "      <th>X1</th>\n",
       "      <th>X2</th>\n",
       "      <th>X3</th>\n",
       "      <th>X4</th>\n",
       "      <th>X5</th>\n",
       "    </tr>\n",
       "  </thead>\n",
       "  <tbody>\n",
       "    <tr>\n",
       "      <th>0</th>\n",
       "      <td>0.360255</td>\n",
       "      <td>0.860208</td>\n",
       "      <td>0.310894</td>\n",
       "      <td>0.210855</td>\n",
       "      <td>0.366435</td>\n",
       "    </tr>\n",
       "    <tr>\n",
       "      <th>1</th>\n",
       "      <td>0.265531</td>\n",
       "      <td>0.592843</td>\n",
       "      <td>0.459606</td>\n",
       "      <td>0.610412</td>\n",
       "      <td>0.854391</td>\n",
       "    </tr>\n",
       "    <tr>\n",
       "      <th>2</th>\n",
       "      <td>0.862768</td>\n",
       "      <td>0.064806</td>\n",
       "      <td>0.947390</td>\n",
       "      <td>0.359989</td>\n",
       "      <td>0.103019</td>\n",
       "    </tr>\n",
       "    <tr>\n",
       "      <th>3</th>\n",
       "      <td>0.996828</td>\n",
       "      <td>0.405544</td>\n",
       "      <td>0.136605</td>\n",
       "      <td>0.877391</td>\n",
       "      <td>0.540334</td>\n",
       "    </tr>\n",
       "    <tr>\n",
       "      <th>4</th>\n",
       "      <td>0.623951</td>\n",
       "      <td>0.643929</td>\n",
       "      <td>0.194511</td>\n",
       "      <td>0.924403</td>\n",
       "      <td>0.268549</td>\n",
       "    </tr>\n",
       "    <tr>\n",
       "      <th>5</th>\n",
       "      <td>0.283158</td>\n",
       "      <td>0.456452</td>\n",
       "      <td>0.368212</td>\n",
       "      <td>0.093543</td>\n",
       "      <td>0.502361</td>\n",
       "    </tr>\n",
       "    <tr>\n",
       "      <th>6</th>\n",
       "      <td>0.482873</td>\n",
       "      <td>0.218449</td>\n",
       "      <td>0.983257</td>\n",
       "      <td>0.097496</td>\n",
       "      <td>0.280790</td>\n",
       "    </tr>\n",
       "    <tr>\n",
       "      <th>7</th>\n",
       "      <td>0.252569</td>\n",
       "      <td>0.916347</td>\n",
       "      <td>0.478070</td>\n",
       "      <td>0.811132</td>\n",
       "      <td>0.634281</td>\n",
       "    </tr>\n",
       "    <tr>\n",
       "      <th>8</th>\n",
       "      <td>0.489403</td>\n",
       "      <td>0.754290</td>\n",
       "      <td>0.055011</td>\n",
       "      <td>0.263123</td>\n",
       "      <td>0.057868</td>\n",
       "    </tr>\n",
       "    <tr>\n",
       "      <th>9</th>\n",
       "      <td>0.100635</td>\n",
       "      <td>0.258108</td>\n",
       "      <td>0.267563</td>\n",
       "      <td>0.225763</td>\n",
       "      <td>0.310467</td>\n",
       "    </tr>\n",
       "  </tbody>\n",
       "</table>\n",
       "</div>"
      ],
      "text/plain": [
       "         X1        X2        X3        X4        X5\n",
       "0  0.360255  0.860208  0.310894  0.210855  0.366435\n",
       "1  0.265531  0.592843  0.459606  0.610412  0.854391\n",
       "2  0.862768  0.064806  0.947390  0.359989  0.103019\n",
       "3  0.996828  0.405544  0.136605  0.877391  0.540334\n",
       "4  0.623951  0.643929  0.194511  0.924403  0.268549\n",
       "5  0.283158  0.456452  0.368212  0.093543  0.502361\n",
       "6  0.482873  0.218449  0.983257  0.097496  0.280790\n",
       "7  0.252569  0.916347  0.478070  0.811132  0.634281\n",
       "8  0.489403  0.754290  0.055011  0.263123  0.057868\n",
       "9  0.100635  0.258108  0.267563  0.225763  0.310467"
      ]
     },
     "execution_count": 21,
     "metadata": {},
     "output_type": "execute_result"
    }
   ],
   "source": [
    "df.head(10)"
   ]
  },
  {
   "cell_type": "code",
   "execution_count": 22,
   "metadata": {},
   "outputs": [
    {
     "data": {
      "text/html": [
       "<div>\n",
       "<style scoped>\n",
       "    .dataframe tbody tr th:only-of-type {\n",
       "        vertical-align: middle;\n",
       "    }\n",
       "\n",
       "    .dataframe tbody tr th {\n",
       "        vertical-align: top;\n",
       "    }\n",
       "\n",
       "    .dataframe thead th {\n",
       "        text-align: right;\n",
       "    }\n",
       "</style>\n",
       "<table border=\"1\" class=\"dataframe\">\n",
       "  <thead>\n",
       "    <tr style=\"text-align: right;\">\n",
       "      <th></th>\n",
       "      <th>X1</th>\n",
       "      <th>X2</th>\n",
       "      <th>X3</th>\n",
       "      <th>X4</th>\n",
       "      <th>X5</th>\n",
       "    </tr>\n",
       "  </thead>\n",
       "  <tbody>\n",
       "    <tr>\n",
       "      <th>495</th>\n",
       "      <td>0.666700</td>\n",
       "      <td>0.489944</td>\n",
       "      <td>0.163396</td>\n",
       "      <td>0.208741</td>\n",
       "      <td>0.657764</td>\n",
       "    </tr>\n",
       "    <tr>\n",
       "      <th>496</th>\n",
       "      <td>0.228033</td>\n",
       "      <td>0.250810</td>\n",
       "      <td>0.445692</td>\n",
       "      <td>0.969766</td>\n",
       "      <td>0.427578</td>\n",
       "    </tr>\n",
       "    <tr>\n",
       "      <th>497</th>\n",
       "      <td>0.292839</td>\n",
       "      <td>0.612684</td>\n",
       "      <td>0.451712</td>\n",
       "      <td>0.461109</td>\n",
       "      <td>0.914361</td>\n",
       "    </tr>\n",
       "    <tr>\n",
       "      <th>498</th>\n",
       "      <td>0.237353</td>\n",
       "      <td>0.470598</td>\n",
       "      <td>0.537053</td>\n",
       "      <td>0.859075</td>\n",
       "      <td>0.281607</td>\n",
       "    </tr>\n",
       "    <tr>\n",
       "      <th>499</th>\n",
       "      <td>0.999763</td>\n",
       "      <td>0.937872</td>\n",
       "      <td>0.794299</td>\n",
       "      <td>0.781174</td>\n",
       "      <td>0.398558</td>\n",
       "    </tr>\n",
       "  </tbody>\n",
       "</table>\n",
       "</div>"
      ],
      "text/plain": [
       "           X1        X2        X3        X4        X5\n",
       "495  0.666700  0.489944  0.163396  0.208741  0.657764\n",
       "496  0.228033  0.250810  0.445692  0.969766  0.427578\n",
       "497  0.292839  0.612684  0.451712  0.461109  0.914361\n",
       "498  0.237353  0.470598  0.537053  0.859075  0.281607\n",
       "499  0.999763  0.937872  0.794299  0.781174  0.398558"
      ]
     },
     "execution_count": 22,
     "metadata": {},
     "output_type": "execute_result"
    }
   ],
   "source": [
    "df.tail()"
   ]
  },
  {
   "cell_type": "code",
   "execution_count": 25,
   "metadata": {},
   "outputs": [
    {
     "data": {
      "text/plain": [
       "X1    float64\n",
       "X2    float64\n",
       "X3    float64\n",
       "X4    float64\n",
       "X5    float64\n",
       "dtype: object"
      ]
     },
     "execution_count": 25,
     "metadata": {},
     "output_type": "execute_result"
    }
   ],
   "source": [
    "df.dtypes # 칼럼별 dtype이 나오게 된다. 그러면 만약 섞여 있으면???"
   ]
  },
  {
   "cell_type": "code",
   "execution_count": 44,
   "metadata": {},
   "outputs": [
    {
     "data": {
      "text/html": [
       "<div>\n",
       "<style scoped>\n",
       "    .dataframe tbody tr th:only-of-type {\n",
       "        vertical-align: middle;\n",
       "    }\n",
       "\n",
       "    .dataframe tbody tr th {\n",
       "        vertical-align: top;\n",
       "    }\n",
       "\n",
       "    .dataframe thead th {\n",
       "        text-align: right;\n",
       "    }\n",
       "</style>\n",
       "<table border=\"1\" class=\"dataframe\">\n",
       "  <thead>\n",
       "    <tr style=\"text-align: right;\">\n",
       "      <th></th>\n",
       "      <th>X1</th>\n",
       "      <th>X2</th>\n",
       "      <th>X3</th>\n",
       "      <th>X4</th>\n",
       "      <th>X5</th>\n",
       "    </tr>\n",
       "  </thead>\n",
       "  <tbody>\n",
       "    <tr>\n",
       "      <th>0</th>\n",
       "      <td>1.000000</td>\n",
       "      <td>0.704195</td>\n",
       "      <td>0.005282</td>\n",
       "      <td>0.439054</td>\n",
       "      <td>0.796572</td>\n",
       "    </tr>\n",
       "    <tr>\n",
       "      <th>1</th>\n",
       "      <td>0.434126</td>\n",
       "      <td>0.543274</td>\n",
       "      <td>0.319591</td>\n",
       "      <td>0.291103</td>\n",
       "      <td>0.45964</td>\n",
       "    </tr>\n",
       "    <tr>\n",
       "      <th>2</th>\n",
       "      <td>0.997208</td>\n",
       "      <td>0.744636</td>\n",
       "      <td>0.635731</td>\n",
       "      <td>0.516120</td>\n",
       "      <td>0.0046849</td>\n",
       "    </tr>\n",
       "    <tr>\n",
       "      <th>3</th>\n",
       "      <td>0.526803</td>\n",
       "      <td>0.912069</td>\n",
       "      <td>0.835927</td>\n",
       "      <td>0.706832</td>\n",
       "      <td>Changed</td>\n",
       "    </tr>\n",
       "    <tr>\n",
       "      <th>4</th>\n",
       "      <td>0.054502</td>\n",
       "      <td>0.202613</td>\n",
       "      <td>0.668503</td>\n",
       "      <td>0.267899</td>\n",
       "      <td>0.860569</td>\n",
       "    </tr>\n",
       "  </tbody>\n",
       "</table>\n",
       "</div>"
      ],
      "text/plain": [
       "         X1        X2        X3        X4         X5\n",
       "0  1.000000  0.704195  0.005282  0.439054   0.796572\n",
       "1  0.434126  0.543274  0.319591  0.291103    0.45964\n",
       "2  0.997208  0.744636  0.635731  0.516120  0.0046849\n",
       "3  0.526803  0.912069  0.835927  0.706832    Changed\n",
       "4  0.054502  0.202613  0.668503  0.267899   0.860569"
      ]
     },
     "execution_count": 44,
     "metadata": {},
     "output_type": "execute_result"
    }
   ],
   "source": [
    "df.iloc[3, 4] = 'Changed'\n",
    "df.head()"
   ]
  },
  {
   "cell_type": "code",
   "execution_count": 25,
   "metadata": {
    "collapsed": true,
    "jupyter": {
     "outputs_hidden": true
    }
   },
   "outputs": [
    {
     "data": {
      "text/plain": [
       "0         0.366435\n",
       "1         0.854391\n",
       "2         0.103019\n",
       "3          Changed\n",
       "4         0.268549\n",
       "5         0.502361\n",
       "6          0.28079\n",
       "7         0.634281\n",
       "8        0.0578677\n",
       "9         0.310467\n",
       "10        0.409891\n",
       "11        0.634554\n",
       "12       0.0245229\n",
       "13        0.774059\n",
       "14        0.668186\n",
       "15        0.193628\n",
       "16      0.00627848\n",
       "17        0.847597\n",
       "18     0.000829548\n",
       "19       0.0166729\n",
       "20        0.891963\n",
       "21        0.670684\n",
       "22        0.521387\n",
       "23        0.251626\n",
       "24        0.785845\n",
       "25        0.744182\n",
       "26        0.145455\n",
       "27       0.0510661\n",
       "28         0.93496\n",
       "29        0.966671\n",
       "30        0.557408\n",
       "31        0.192739\n",
       "32        0.413848\n",
       "33         0.96402\n",
       "34        0.408195\n",
       "35        0.943198\n",
       "36        0.057859\n",
       "37        0.318983\n",
       "38         0.90067\n",
       "39        0.427059\n",
       "40        0.861314\n",
       "41       0.0996072\n",
       "42        0.563183\n",
       "43        0.759948\n",
       "44        0.945428\n",
       "45        0.428043\n",
       "46        0.602346\n",
       "47        0.621307\n",
       "48        0.875001\n",
       "49        0.633638\n",
       "50         0.56328\n",
       "51        0.608123\n",
       "52        0.585193\n",
       "53        0.467969\n",
       "54         0.76823\n",
       "55        0.244499\n",
       "56       0.0969196\n",
       "57      0.00157276\n",
       "58        0.646685\n",
       "59         0.52624\n",
       "60        0.723224\n",
       "61        0.407974\n",
       "62        0.430961\n",
       "63        0.517131\n",
       "64        0.246877\n",
       "65         0.68625\n",
       "66        0.739901\n",
       "67        0.694175\n",
       "68         0.68495\n",
       "69        0.398654\n",
       "70        0.618626\n",
       "71        0.382968\n",
       "72       0.0326936\n",
       "73        0.234108\n",
       "74        0.824131\n",
       "75        0.399945\n",
       "76        0.629855\n",
       "77        0.630711\n",
       "78       0.0437781\n",
       "79         0.88289\n",
       "80        0.795985\n",
       "81         0.29758\n",
       "82        0.147419\n",
       "83       0.0503328\n",
       "84        0.737116\n",
       "85        0.310374\n",
       "86        0.525675\n",
       "87        0.783367\n",
       "88         0.10155\n",
       "89        0.526687\n",
       "90        0.247198\n",
       "91        0.476555\n",
       "92        0.115486\n",
       "93         0.87287\n",
       "94        0.933018\n",
       "95        0.387321\n",
       "96        0.739062\n",
       "97        0.591242\n",
       "98        0.295885\n",
       "99        0.998641\n",
       "100      0.0374356\n",
       "101       0.709523\n",
       "102       0.801405\n",
       "103       0.921007\n",
       "104       0.965365\n",
       "105       0.838524\n",
       "106     0.00829398\n",
       "107       0.917364\n",
       "108       0.200115\n",
       "109       0.933402\n",
       "110      0.0135545\n",
       "111       0.190537\n",
       "112       0.296811\n",
       "113       0.656905\n",
       "114       0.104817\n",
       "115       0.749023\n",
       "116       0.520487\n",
       "117      0.0957629\n",
       "118       0.586845\n",
       "119       0.867217\n",
       "120       0.956399\n",
       "121       0.198623\n",
       "122      0.0671783\n",
       "123       0.623683\n",
       "124       0.863887\n",
       "125       0.909999\n",
       "126       0.497521\n",
       "127       0.611076\n",
       "128       0.711954\n",
       "129       0.313227\n",
       "130       0.821109\n",
       "131       0.124271\n",
       "132       0.275195\n",
       "133       0.164251\n",
       "134       0.201607\n",
       "135       0.971082\n",
       "136       0.765703\n",
       "137       0.868059\n",
       "138       0.582673\n",
       "139       0.765153\n",
       "140      0.0456226\n",
       "141       0.644082\n",
       "142         0.4401\n",
       "143       0.550386\n",
       "144        0.72316\n",
       "145       0.292586\n",
       "146       0.166559\n",
       "147       0.543624\n",
       "148       0.334371\n",
       "149        0.76673\n",
       "150       0.120409\n",
       "151       0.577259\n",
       "152        0.75072\n",
       "153       0.223343\n",
       "154        0.96898\n",
       "155       0.420008\n",
       "156       0.320221\n",
       "157       0.598067\n",
       "158       0.402571\n",
       "159       0.994864\n",
       "160       0.359732\n",
       "161       0.946319\n",
       "162       0.235789\n",
       "163       0.342205\n",
       "164       0.324792\n",
       "165       0.175408\n",
       "166        0.53354\n",
       "167       0.335235\n",
       "168       0.614146\n",
       "169       0.360666\n",
       "170       0.964006\n",
       "171       0.199067\n",
       "172      0.0993696\n",
       "173       0.817254\n",
       "174       0.631465\n",
       "175        0.29114\n",
       "176       0.991975\n",
       "177       0.697283\n",
       "178      0.0586473\n",
       "179       0.496227\n",
       "180        0.78839\n",
       "181       0.813055\n",
       "182       0.771506\n",
       "183     0.00665736\n",
       "184       0.989676\n",
       "185       0.990281\n",
       "186       0.912763\n",
       "187     0.00874497\n",
       "188       0.949658\n",
       "189       0.236025\n",
       "190      0.0357138\n",
       "191       0.892592\n",
       "192       0.977668\n",
       "193       0.710068\n",
       "194       0.733424\n",
       "195       0.776981\n",
       "196        0.26377\n",
       "197       0.292386\n",
       "198        0.54434\n",
       "199       0.208425\n",
       "200       0.959066\n",
       "201       0.110026\n",
       "202       0.420993\n",
       "203       0.741506\n",
       "204       0.133305\n",
       "205       0.115442\n",
       "206      0.0729444\n",
       "207       0.288019\n",
       "208       0.566502\n",
       "209       0.929762\n",
       "210      0.0595653\n",
       "211       0.886385\n",
       "212       0.920306\n",
       "213       0.691145\n",
       "214       0.158209\n",
       "215       0.410834\n",
       "216       0.606366\n",
       "217       0.670125\n",
       "218       0.655433\n",
       "219       0.993888\n",
       "220       0.703485\n",
       "221       0.752625\n",
       "222       0.270891\n",
       "223       0.521898\n",
       "224      0.0471188\n",
       "225       0.786048\n",
       "226       0.400526\n",
       "227        0.43216\n",
       "228       0.405722\n",
       "229       0.955354\n",
       "230       0.696077\n",
       "231       0.855941\n",
       "232       0.555471\n",
       "233       0.521231\n",
       "234      0.0214754\n",
       "235       0.417973\n",
       "236       0.781554\n",
       "237      0.0223769\n",
       "238       0.253581\n",
       "239       0.143433\n",
       "240        0.55563\n",
       "241       0.189468\n",
       "242     0.00504021\n",
       "243        0.50014\n",
       "244       0.668372\n",
       "245       0.527965\n",
       "246     0.00373089\n",
       "247       0.456133\n",
       "248       0.243086\n",
       "249       0.996316\n",
       "250       0.557917\n",
       "251       0.790667\n",
       "252       0.330846\n",
       "253       0.929353\n",
       "254       0.579138\n",
       "255       0.830441\n",
       "256       0.417404\n",
       "257       0.787564\n",
       "258       0.265172\n",
       "259      0.0839368\n",
       "260       0.408512\n",
       "261       0.421855\n",
       "262      0.0598316\n",
       "263      0.0682776\n",
       "264       0.119441\n",
       "265       0.886957\n",
       "266       0.461642\n",
       "267       0.315747\n",
       "268       0.432952\n",
       "269       0.950032\n",
       "270       0.204042\n",
       "271       0.061289\n",
       "272       0.856331\n",
       "273       0.866476\n",
       "274        0.95668\n",
       "275       0.767418\n",
       "276       0.705304\n",
       "277      0.0365482\n",
       "278       0.183357\n",
       "279       0.223752\n",
       "280     0.00297967\n",
       "281      0.0695865\n",
       "282       0.884284\n",
       "283      0.0758663\n",
       "284       0.164561\n",
       "285        0.11349\n",
       "286     0.00997244\n",
       "287       0.468096\n",
       "288       0.742754\n",
       "289       0.607898\n",
       "290       0.598016\n",
       "291       0.665105\n",
       "292        0.84234\n",
       "293       0.126471\n",
       "294       0.792288\n",
       "295       0.181928\n",
       "296      0.0798659\n",
       "297       0.215783\n",
       "298       0.135393\n",
       "299       0.349802\n",
       "300       0.626095\n",
       "301       0.199696\n",
       "302        0.47001\n",
       "303       0.886476\n",
       "304      0.0622105\n",
       "305      0.0348896\n",
       "306       0.423005\n",
       "307       0.540521\n",
       "308       0.725661\n",
       "309        0.78911\n",
       "310       0.436911\n",
       "311       0.866698\n",
       "312       0.602079\n",
       "313       0.438035\n",
       "314        0.39102\n",
       "315       0.346026\n",
       "316       0.392876\n",
       "317     0.00790203\n",
       "318       0.181171\n",
       "319       0.836755\n",
       "320       0.740376\n",
       "321       0.888936\n",
       "322       0.633014\n",
       "323       0.439449\n",
       "324       0.264307\n",
       "325      0.0675608\n",
       "326       0.508968\n",
       "327       0.173151\n",
       "328       0.667811\n",
       "329       0.779764\n",
       "330       0.872169\n",
       "331       0.477159\n",
       "332       0.504277\n",
       "333       0.564503\n",
       "334       0.233767\n",
       "335       0.382331\n",
       "336       0.714709\n",
       "337       0.881177\n",
       "338      0.0938333\n",
       "339      0.0720339\n",
       "340       0.433182\n",
       "341       0.143589\n",
       "342       0.843032\n",
       "343       0.250328\n",
       "344        0.81267\n",
       "345       0.699455\n",
       "346       0.932265\n",
       "347       0.990221\n",
       "348       0.453133\n",
       "349       0.800506\n",
       "350       0.262486\n",
       "351       0.590573\n",
       "352       0.577094\n",
       "353       0.131977\n",
       "354       0.512452\n",
       "355       0.535125\n",
       "356       0.155777\n",
       "357        0.45848\n",
       "358       0.880577\n",
       "359       0.531551\n",
       "360       0.222153\n",
       "361       0.921592\n",
       "362       0.452523\n",
       "363       0.960662\n",
       "364       0.116407\n",
       "365       0.146635\n",
       "366       0.902317\n",
       "367       0.577086\n",
       "368       0.171201\n",
       "369       0.719505\n",
       "370       0.993483\n",
       "371       0.290175\n",
       "372       0.929741\n",
       "373       0.949936\n",
       "374       0.370554\n",
       "375      0.0572107\n",
       "376       0.172183\n",
       "377        0.35425\n",
       "378       0.554296\n",
       "379       0.377969\n",
       "380       0.293771\n",
       "381       0.840092\n",
       "382       0.705166\n",
       "383       0.613121\n",
       "384      0.0116363\n",
       "385       0.831516\n",
       "386      0.0483075\n",
       "387       0.782156\n",
       "388        0.27623\n",
       "389       0.900011\n",
       "390      0.0052554\n",
       "391       0.340179\n",
       "392       0.122456\n",
       "393       0.544856\n",
       "394       0.981689\n",
       "395       0.235402\n",
       "396       0.832886\n",
       "397       0.757799\n",
       "398       0.509817\n",
       "399       0.178478\n",
       "400      0.0455533\n",
       "401       0.156834\n",
       "402       0.768388\n",
       "403       0.180039\n",
       "404      0.0339226\n",
       "405       0.444158\n",
       "406       0.527131\n",
       "407       0.363057\n",
       "408       0.729509\n",
       "409      0.0281943\n",
       "410       0.524434\n",
       "411       0.872811\n",
       "412       0.633418\n",
       "413         0.2892\n",
       "414       0.747521\n",
       "415       0.481689\n",
       "416       0.889389\n",
       "417       0.714263\n",
       "418       0.815553\n",
       "419      0.0646551\n",
       "420       0.863137\n",
       "421      0.0487985\n",
       "422       0.582285\n",
       "423      0.0381415\n",
       "424       0.215972\n",
       "425       0.948592\n",
       "426        0.12656\n",
       "427       0.214205\n",
       "428       0.889452\n",
       "429       0.514976\n",
       "430       0.574572\n",
       "431       0.896447\n",
       "432     0.00207629\n",
       "433      0.0975663\n",
       "434       0.445183\n",
       "435       0.193504\n",
       "436       0.592001\n",
       "437       0.941323\n",
       "438       0.734439\n",
       "439       0.649751\n",
       "440       0.286412\n",
       "441       0.271319\n",
       "442       0.139941\n",
       "443      0.0453829\n",
       "444      0.0798137\n",
       "445       0.550054\n",
       "446       0.819952\n",
       "447       0.290832\n",
       "448       0.154256\n",
       "449       0.928418\n",
       "450       0.212087\n",
       "451        0.94252\n",
       "452       0.300966\n",
       "453       0.739365\n",
       "454       0.258437\n",
       "455      0.0302376\n",
       "456       0.282987\n",
       "457       0.281866\n",
       "458       0.842073\n",
       "459       0.210697\n",
       "460      0.0567737\n",
       "461       0.772546\n",
       "462       0.390829\n",
       "463        0.49442\n",
       "464       0.190296\n",
       "465       0.509645\n",
       "466       0.907747\n",
       "467       0.914031\n",
       "468      0.0394612\n",
       "469       0.676372\n",
       "470        0.51113\n",
       "471      0.0380921\n",
       "472       0.813085\n",
       "473       0.196229\n",
       "474       0.879312\n",
       "475       0.196693\n",
       "476       0.357093\n",
       "477       0.690828\n",
       "478       0.752236\n",
       "479       0.383511\n",
       "480       0.442143\n",
       "481       0.295873\n",
       "482       0.275489\n",
       "483       0.304693\n",
       "484       0.790721\n",
       "485       0.383926\n",
       "486      0.0511133\n",
       "487       0.875246\n",
       "488       0.445629\n",
       "489        0.94751\n",
       "490       0.663477\n",
       "491       0.789426\n",
       "492      0.0157478\n",
       "493       0.746371\n",
       "494       0.723869\n",
       "495       0.657764\n",
       "496       0.427578\n",
       "497       0.914361\n",
       "498       0.281607\n",
       "499       0.398558\n",
       "Name: X5, dtype: object"
      ]
     },
     "execution_count": 25,
     "metadata": {},
     "output_type": "execute_result"
    }
   ],
   "source": [
    "df['X5']"
   ]
  },
  {
   "cell_type": "code",
   "execution_count": 46,
   "metadata": {},
   "outputs": [
    {
     "data": {
      "text/html": [
       "<div>\n",
       "<style scoped>\n",
       "    .dataframe tbody tr th:only-of-type {\n",
       "        vertical-align: middle;\n",
       "    }\n",
       "\n",
       "    .dataframe tbody tr th {\n",
       "        vertical-align: top;\n",
       "    }\n",
       "\n",
       "    .dataframe thead th {\n",
       "        text-align: right;\n",
       "    }\n",
       "</style>\n",
       "<table border=\"1\" class=\"dataframe\">\n",
       "  <thead>\n",
       "    <tr style=\"text-align: right;\">\n",
       "      <th></th>\n",
       "      <th>X1</th>\n",
       "      <th>X2</th>\n",
       "      <th>X3</th>\n",
       "      <th>X4</th>\n",
       "      <th>X5</th>\n",
       "    </tr>\n",
       "  </thead>\n",
       "  <tbody>\n",
       "    <tr>\n",
       "      <th>0</th>\n",
       "      <td>1.000000</td>\n",
       "      <td>0.704195</td>\n",
       "      <td>0.00528249</td>\n",
       "      <td>0.439054</td>\n",
       "      <td>0.796572</td>\n",
       "    </tr>\n",
       "    <tr>\n",
       "      <th>1</th>\n",
       "      <td>0.434126</td>\n",
       "      <td>0.543274</td>\n",
       "      <td>0.319591</td>\n",
       "      <td>0.291103</td>\n",
       "      <td>0.45964</td>\n",
       "    </tr>\n",
       "    <tr>\n",
       "      <th>2</th>\n",
       "      <td>0.997208</td>\n",
       "      <td>0.744636</td>\n",
       "      <td>0.635731</td>\n",
       "      <td>0.51612</td>\n",
       "      <td>0.0046849</td>\n",
       "    </tr>\n",
       "    <tr>\n",
       "      <th>3</th>\n",
       "      <td>0.526803</td>\n",
       "      <td>0.912069</td>\n",
       "      <td>Changed2</td>\n",
       "      <td>Changed2</td>\n",
       "      <td>Changed</td>\n",
       "    </tr>\n",
       "    <tr>\n",
       "      <th>4</th>\n",
       "      <td>0.054502</td>\n",
       "      <td>0.202613</td>\n",
       "      <td>Changed2</td>\n",
       "      <td>Changed2</td>\n",
       "      <td>0.860569</td>\n",
       "    </tr>\n",
       "    <tr>\n",
       "      <th>5</th>\n",
       "      <td>0.612670</td>\n",
       "      <td>0.044698</td>\n",
       "      <td>Changed2</td>\n",
       "      <td>Changed2</td>\n",
       "      <td>0.98034</td>\n",
       "    </tr>\n",
       "    <tr>\n",
       "      <th>6</th>\n",
       "      <td>0.445289</td>\n",
       "      <td>0.265116</td>\n",
       "      <td>Changed2</td>\n",
       "      <td>Changed2</td>\n",
       "      <td>0.730726</td>\n",
       "    </tr>\n",
       "    <tr>\n",
       "      <th>7</th>\n",
       "      <td>0.705709</td>\n",
       "      <td>0.372972</td>\n",
       "      <td>Changed2</td>\n",
       "      <td>Changed2</td>\n",
       "      <td>0.857213</td>\n",
       "    </tr>\n",
       "    <tr>\n",
       "      <th>8</th>\n",
       "      <td>0.886013</td>\n",
       "      <td>0.147595</td>\n",
       "      <td>Changed2</td>\n",
       "      <td>Changed2</td>\n",
       "      <td>0.600863</td>\n",
       "    </tr>\n",
       "    <tr>\n",
       "      <th>9</th>\n",
       "      <td>0.622294</td>\n",
       "      <td>0.357988</td>\n",
       "      <td>Changed2</td>\n",
       "      <td>Changed2</td>\n",
       "      <td>0.14586</td>\n",
       "    </tr>\n",
       "    <tr>\n",
       "      <th>10</th>\n",
       "      <td>0.334188</td>\n",
       "      <td>0.835170</td>\n",
       "      <td>Changed2</td>\n",
       "      <td>Changed2</td>\n",
       "      <td>0.218699</td>\n",
       "    </tr>\n",
       "    <tr>\n",
       "      <th>11</th>\n",
       "      <td>0.373737</td>\n",
       "      <td>0.856658</td>\n",
       "      <td>Changed2</td>\n",
       "      <td>Changed2</td>\n",
       "      <td>0.635328</td>\n",
       "    </tr>\n",
       "    <tr>\n",
       "      <th>12</th>\n",
       "      <td>0.812721</td>\n",
       "      <td>0.575634</td>\n",
       "      <td>Changed2</td>\n",
       "      <td>Changed2</td>\n",
       "      <td>0.500821</td>\n",
       "    </tr>\n",
       "    <tr>\n",
       "      <th>13</th>\n",
       "      <td>0.760018</td>\n",
       "      <td>0.933497</td>\n",
       "      <td>Changed2</td>\n",
       "      <td>Changed2</td>\n",
       "      <td>0.501333</td>\n",
       "    </tr>\n",
       "    <tr>\n",
       "      <th>14</th>\n",
       "      <td>0.655314</td>\n",
       "      <td>0.824904</td>\n",
       "      <td>Changed2</td>\n",
       "      <td>Changed2</td>\n",
       "      <td>0.380096</td>\n",
       "    </tr>\n",
       "    <tr>\n",
       "      <th>15</th>\n",
       "      <td>0.929327</td>\n",
       "      <td>0.299250</td>\n",
       "      <td>Changed2</td>\n",
       "      <td>Changed2</td>\n",
       "      <td>0.594408</td>\n",
       "    </tr>\n",
       "    <tr>\n",
       "      <th>16</th>\n",
       "      <td>0.634291</td>\n",
       "      <td>0.037784</td>\n",
       "      <td>Changed2</td>\n",
       "      <td>Changed2</td>\n",
       "      <td>0.190773</td>\n",
       "    </tr>\n",
       "    <tr>\n",
       "      <th>17</th>\n",
       "      <td>0.018078</td>\n",
       "      <td>0.013780</td>\n",
       "      <td>Changed2</td>\n",
       "      <td>Changed2</td>\n",
       "      <td>0.318237</td>\n",
       "    </tr>\n",
       "    <tr>\n",
       "      <th>18</th>\n",
       "      <td>0.967204</td>\n",
       "      <td>0.344896</td>\n",
       "      <td>Changed2</td>\n",
       "      <td>Changed2</td>\n",
       "      <td>0.0174112</td>\n",
       "    </tr>\n",
       "    <tr>\n",
       "      <th>19</th>\n",
       "      <td>0.681744</td>\n",
       "      <td>0.629479</td>\n",
       "      <td>Changed2</td>\n",
       "      <td>Changed2</td>\n",
       "      <td>0.562094</td>\n",
       "    </tr>\n",
       "    <tr>\n",
       "      <th>20</th>\n",
       "      <td>0.121080</td>\n",
       "      <td>0.303612</td>\n",
       "      <td>0.954841</td>\n",
       "      <td>0.966817</td>\n",
       "      <td>0.468395</td>\n",
       "    </tr>\n",
       "    <tr>\n",
       "      <th>21</th>\n",
       "      <td>0.771068</td>\n",
       "      <td>0.855680</td>\n",
       "      <td>0.893465</td>\n",
       "      <td>0.0310972</td>\n",
       "      <td>0.550344</td>\n",
       "    </tr>\n",
       "    <tr>\n",
       "      <th>22</th>\n",
       "      <td>0.050698</td>\n",
       "      <td>0.754783</td>\n",
       "      <td>0.824016</td>\n",
       "      <td>0.0507294</td>\n",
       "      <td>0.755693</td>\n",
       "    </tr>\n",
       "    <tr>\n",
       "      <th>23</th>\n",
       "      <td>0.810263</td>\n",
       "      <td>0.700900</td>\n",
       "      <td>0.646226</td>\n",
       "      <td>0.739061</td>\n",
       "      <td>0.609522</td>\n",
       "    </tr>\n",
       "    <tr>\n",
       "      <th>24</th>\n",
       "      <td>0.948066</td>\n",
       "      <td>0.762702</td>\n",
       "      <td>0.927872</td>\n",
       "      <td>0.291301</td>\n",
       "      <td>0.101919</td>\n",
       "    </tr>\n",
       "  </tbody>\n",
       "</table>\n",
       "</div>"
      ],
      "text/plain": [
       "          X1        X2          X3         X4         X5\n",
       "0   1.000000  0.704195  0.00528249   0.439054   0.796572\n",
       "1   0.434126  0.543274    0.319591   0.291103    0.45964\n",
       "2   0.997208  0.744636    0.635731    0.51612  0.0046849\n",
       "3   0.526803  0.912069    Changed2   Changed2    Changed\n",
       "4   0.054502  0.202613    Changed2   Changed2   0.860569\n",
       "5   0.612670  0.044698    Changed2   Changed2    0.98034\n",
       "6   0.445289  0.265116    Changed2   Changed2   0.730726\n",
       "7   0.705709  0.372972    Changed2   Changed2   0.857213\n",
       "8   0.886013  0.147595    Changed2   Changed2   0.600863\n",
       "9   0.622294  0.357988    Changed2   Changed2    0.14586\n",
       "10  0.334188  0.835170    Changed2   Changed2   0.218699\n",
       "11  0.373737  0.856658    Changed2   Changed2   0.635328\n",
       "12  0.812721  0.575634    Changed2   Changed2   0.500821\n",
       "13  0.760018  0.933497    Changed2   Changed2   0.501333\n",
       "14  0.655314  0.824904    Changed2   Changed2   0.380096\n",
       "15  0.929327  0.299250    Changed2   Changed2   0.594408\n",
       "16  0.634291  0.037784    Changed2   Changed2   0.190773\n",
       "17  0.018078  0.013780    Changed2   Changed2   0.318237\n",
       "18  0.967204  0.344896    Changed2   Changed2  0.0174112\n",
       "19  0.681744  0.629479    Changed2   Changed2   0.562094\n",
       "20  0.121080  0.303612    0.954841   0.966817   0.468395\n",
       "21  0.771068  0.855680    0.893465  0.0310972   0.550344\n",
       "22  0.050698  0.754783    0.824016  0.0507294   0.755693\n",
       "23  0.810263  0.700900    0.646226   0.739061   0.609522\n",
       "24  0.948066  0.762702    0.927872   0.291301   0.101919"
      ]
     },
     "execution_count": 46,
     "metadata": {},
     "output_type": "execute_result"
    }
   ],
   "source": [
    "df.iloc[3:20, 2:4] = 'Changed2'\n",
    "df.iloc[:25]"
   ]
  },
  {
   "cell_type": "code",
   "execution_count": null,
   "metadata": {},
   "outputs": [],
   "source": []
  }
 ],
 "metadata": {
  "kernelspec": {
   "display_name": "Python 3",
   "language": "python",
   "name": "python3"
  },
  "language_info": {
   "codemirror_mode": {
    "name": "ipython",
    "version": 3
   },
   "file_extension": ".py",
   "mimetype": "text/x-python",
   "name": "python",
   "nbconvert_exporter": "python",
   "pygments_lexer": "ipython3",
   "version": "3.8.5"
  }
 },
 "nbformat": 4,
 "nbformat_minor": 4
}
