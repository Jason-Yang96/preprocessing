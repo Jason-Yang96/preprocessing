{
 "cells": [
  {
   "cell_type": "code",
   "execution_count": 2,
   "metadata": {},
   "outputs": [],
   "source": [
    "import os\n",
    "import pandas as pd\n",
    "os.chdir(r\"C:\\Users\\user\\jupyter\\python\\preprocessing\\데이터\")"
   ]
  },
  {
   "cell_type": "code",
   "execution_count": 3,
   "metadata": {},
   "outputs": [],
   "source": [
    "df = pd.read_csv(\"온라인_판매기록.csv\", engine = \"python\")"
   ]
  },
  {
   "cell_type": "code",
   "execution_count": 4,
   "metadata": {},
   "outputs": [
    {
     "data": {
      "text/html": [
       "<div>\n",
       "<style scoped>\n",
       "    .dataframe tbody tr th:only-of-type {\n",
       "        vertical-align: middle;\n",
       "    }\n",
       "\n",
       "    .dataframe tbody tr th {\n",
       "        vertical-align: top;\n",
       "    }\n",
       "\n",
       "    .dataframe thead th {\n",
       "        text-align: right;\n",
       "    }\n",
       "</style>\n",
       "<table border=\"1\" class=\"dataframe\">\n",
       "  <thead>\n",
       "    <tr style=\"text-align: right;\">\n",
       "      <th></th>\n",
       "      <th>쇼핑몰</th>\n",
       "      <th>제품</th>\n",
       "      <th>수량</th>\n",
       "      <th>판매금액</th>\n",
       "      <th>쇼핑몰 유형</th>\n",
       "    </tr>\n",
       "  </thead>\n",
       "  <tbody>\n",
       "    <tr>\n",
       "      <th>0</th>\n",
       "      <td>쿠팡</td>\n",
       "      <td>제품_16</td>\n",
       "      <td>8</td>\n",
       "      <td>1134400</td>\n",
       "      <td>쿠팡</td>\n",
       "    </tr>\n",
       "    <tr>\n",
       "      <th>1</th>\n",
       "      <td>쿠팡</td>\n",
       "      <td>제품_57</td>\n",
       "      <td>8</td>\n",
       "      <td>439200</td>\n",
       "      <td>쿠팡</td>\n",
       "    </tr>\n",
       "    <tr>\n",
       "      <th>2</th>\n",
       "      <td>쿠팡</td>\n",
       "      <td>제품_25</td>\n",
       "      <td>4</td>\n",
       "      <td>495200</td>\n",
       "      <td>쿠팡</td>\n",
       "    </tr>\n",
       "    <tr>\n",
       "      <th>3</th>\n",
       "      <td>쿠팡</td>\n",
       "      <td>제품_18</td>\n",
       "      <td>4</td>\n",
       "      <td>578000</td>\n",
       "      <td>쿠팡</td>\n",
       "    </tr>\n",
       "    <tr>\n",
       "      <th>4</th>\n",
       "      <td>쿠팡</td>\n",
       "      <td>제품_90</td>\n",
       "      <td>2</td>\n",
       "      <td>75000</td>\n",
       "      <td>쿠팡</td>\n",
       "    </tr>\n",
       "  </tbody>\n",
       "</table>\n",
       "</div>"
      ],
      "text/plain": [
       "  쇼핑몰     제품  수량     판매금액 쇼핑몰 유형\n",
       "0  쿠팡  제품_16   8  1134400     쿠팡\n",
       "1  쿠팡  제품_57   8   439200     쿠팡\n",
       "2  쿠팡  제품_25   4   495200     쿠팡\n",
       "3  쿠팡  제품_18   4   578000     쿠팡\n",
       "4  쿠팡  제품_90   2    75000     쿠팡"
      ]
     },
     "execution_count": 4,
     "metadata": {},
     "output_type": "execute_result"
    }
   ],
   "source": [
    "df.head()"
   ]
  },
  {
   "cell_type": "code",
   "execution_count": 15,
   "metadata": {},
   "outputs": [
    {
     "name": "stdout",
     "output_type": "stream",
     "text": [
      "(762, 1) (100, 8)\n"
     ]
    }
   ],
   "source": [
    "pt1 = pd.pivot_table(df, index = ['제품', '쇼핑몰 유형'],  values = '판매금액', aggfunc = 'mean')\n",
    "pt1.shape\n",
    "pt2 = pd.pivot_table(df, index = ['제품'], columns = '쇼핑몰 유형' , values = '판매금액', aggfunc = 'mean')\n",
    "print(pt1.shape, pt2.shape)\n",
    "# 차이점 multi index를 가지냐 가지지 않느냐. multi index는 나중에 시각화나 전처리할 때 번거로울 수 있기 때문에 그냥 single index를 사용해보자. "
   ]
  },
  {
   "cell_type": "code",
   "execution_count": 23,
   "metadata": {},
   "outputs": [],
   "source": [
    "pt2 = pd.pivot_table(df, index = ['제품', '쇼핑몰 유형'],values = ['판매금액', '수량'], aggfunc = 'mean')\n",
    "pt2.loc['제품_02'] # 한가지 차이점. sinle index는 모든 제품에 대하여 쇼핑몰 유형을 보여주어야 하기 때문에 결측치가 존재할 수 있다. \n",
    "\n",
    "\n",
    "# multi index는 각 제품별로 판매되었던 쇼핑몰 유형만을 보여 줄 수 있다. "
   ]
  },
  {
   "cell_type": "code",
   "execution_count": 35,
   "metadata": {},
   "outputs": [
    {
     "data": {
      "text/html": [
       "<div>\n",
       "<style scoped>\n",
       "    .dataframe tbody tr th:only-of-type {\n",
       "        vertical-align: middle;\n",
       "    }\n",
       "\n",
       "    .dataframe tbody tr th {\n",
       "        vertical-align: top;\n",
       "    }\n",
       "\n",
       "    .dataframe thead th {\n",
       "        text-align: right;\n",
       "    }\n",
       "</style>\n",
       "<table border=\"1\" class=\"dataframe\">\n",
       "  <thead>\n",
       "    <tr style=\"text-align: right;\">\n",
       "      <th></th>\n",
       "      <th>쇼핑몰</th>\n",
       "      <th>제품</th>\n",
       "      <th>수량</th>\n",
       "      <th>판매금액</th>\n",
       "      <th>쇼핑몰 유형</th>\n",
       "    </tr>\n",
       "  </thead>\n",
       "  <tbody>\n",
       "    <tr>\n",
       "      <th>0</th>\n",
       "      <td>쿠팡</td>\n",
       "      <td>제품_16</td>\n",
       "      <td>8</td>\n",
       "      <td>1134400</td>\n",
       "      <td>쿠팡</td>\n",
       "    </tr>\n",
       "    <tr>\n",
       "      <th>1</th>\n",
       "      <td>쿠팡</td>\n",
       "      <td>제품_57</td>\n",
       "      <td>8</td>\n",
       "      <td>439200</td>\n",
       "      <td>쿠팡</td>\n",
       "    </tr>\n",
       "    <tr>\n",
       "      <th>2</th>\n",
       "      <td>쿠팡</td>\n",
       "      <td>제품_25</td>\n",
       "      <td>4</td>\n",
       "      <td>495200</td>\n",
       "      <td>쿠팡</td>\n",
       "    </tr>\n",
       "    <tr>\n",
       "      <th>3</th>\n",
       "      <td>쿠팡</td>\n",
       "      <td>제품_18</td>\n",
       "      <td>4</td>\n",
       "      <td>578000</td>\n",
       "      <td>쿠팡</td>\n",
       "    </tr>\n",
       "    <tr>\n",
       "      <th>4</th>\n",
       "      <td>쿠팡</td>\n",
       "      <td>제품_90</td>\n",
       "      <td>2</td>\n",
       "      <td>75000</td>\n",
       "      <td>쿠팡</td>\n",
       "    </tr>\n",
       "    <tr>\n",
       "      <th>...</th>\n",
       "      <td>...</td>\n",
       "      <td>...</td>\n",
       "      <td>...</td>\n",
       "      <td>...</td>\n",
       "      <td>...</td>\n",
       "    </tr>\n",
       "    <tr>\n",
       "      <th>5810</th>\n",
       "      <td>애견아우랫</td>\n",
       "      <td>제품_41</td>\n",
       "      <td>5</td>\n",
       "      <td>696500</td>\n",
       "      <td>동물병원</td>\n",
       "    </tr>\n",
       "    <tr>\n",
       "      <th>5811</th>\n",
       "      <td>애견아우랫</td>\n",
       "      <td>제품_98</td>\n",
       "      <td>6</td>\n",
       "      <td>590400</td>\n",
       "      <td>동물병원</td>\n",
       "    </tr>\n",
       "    <tr>\n",
       "      <th>5812</th>\n",
       "      <td>애견아우랫</td>\n",
       "      <td>제품_77</td>\n",
       "      <td>5</td>\n",
       "      <td>512500</td>\n",
       "      <td>동물병원</td>\n",
       "    </tr>\n",
       "    <tr>\n",
       "      <th>5813</th>\n",
       "      <td>애견아우랫</td>\n",
       "      <td>제품_04</td>\n",
       "      <td>6</td>\n",
       "      <td>256200</td>\n",
       "      <td>동물병원</td>\n",
       "    </tr>\n",
       "    <tr>\n",
       "      <th>5814</th>\n",
       "      <td>애견아우랫</td>\n",
       "      <td>제품_39</td>\n",
       "      <td>7</td>\n",
       "      <td>72800</td>\n",
       "      <td>동물병원</td>\n",
       "    </tr>\n",
       "  </tbody>\n",
       "</table>\n",
       "<p>5815 rows × 5 columns</p>\n",
       "</div>"
      ],
      "text/plain": [
       "        쇼핑몰     제품  수량     판매금액 쇼핑몰 유형\n",
       "0        쿠팡  제품_16   8  1134400     쿠팡\n",
       "1        쿠팡  제품_57   8   439200     쿠팡\n",
       "2        쿠팡  제품_25   4   495200     쿠팡\n",
       "3        쿠팡  제품_18   4   578000     쿠팡\n",
       "4        쿠팡  제품_90   2    75000     쿠팡\n",
       "...     ...    ...  ..      ...    ...\n",
       "5810  애견아우랫  제품_41   5   696500   동물병원\n",
       "5811  애견아우랫  제품_98   6   590400   동물병원\n",
       "5812  애견아우랫  제품_77   5   512500   동물병원\n",
       "5813  애견아우랫  제품_04   6   256200   동물병원\n",
       "5814  애견아우랫  제품_39   7    72800   동물병원\n",
       "\n",
       "[5815 rows x 5 columns]"
      ]
     },
     "execution_count": 35,
     "metadata": {},
     "output_type": "execute_result"
    }
   ],
   "source": []
  },
  {
   "cell_type": "code",
   "execution_count": 26,
   "metadata": {},
   "outputs": [
    {
     "data": {
      "text/plain": [
       "      쇼핑몰 유형\n",
       "수량    동물병원           4.933333\n",
       "      온라인II          6.666667\n",
       "      온라인사이트         4.000000\n",
       "      유통대리점          5.500000\n",
       "      전시회            9.000000\n",
       "      쿠팡             6.000000\n",
       "      할인점            4.500000\n",
       "      할인점II               NaN\n",
       "판매금액  동물병원       79920.000000\n",
       "      온라인II     108000.000000\n",
       "      온라인사이트     64800.000000\n",
       "      유통대리점      89100.000000\n",
       "      전시회       145800.000000\n",
       "      쿠팡         97200.000000\n",
       "      할인점        72900.000000\n",
       "      할인점II               NaN\n",
       "Name: 제품_02, dtype: float64"
      ]
     },
     "execution_count": 26,
     "metadata": {},
     "output_type": "execute_result"
    }
   ],
   "source": [
    "pt3 = pd.pivot_table(df, index = ['제품'], columns = ['쇼핑몰 유형'],values = ['판매금액', '수량'], aggfunc = 'mean')\n",
    "pt3.loc[\"제품_02\"]"
   ]
  }
 ],
 "metadata": {
  "kernelspec": {
   "display_name": "Python 3",
   "language": "python",
   "name": "python3"
  },
  "language_info": {
   "codemirror_mode": {
    "name": "ipython",
    "version": 3
   },
   "file_extension": ".py",
   "mimetype": "text/x-python",
   "name": "python",
   "nbconvert_exporter": "python",
   "pygments_lexer": "ipython3",
   "version": "3.8.5"
  }
 },
 "nbformat": 4,
 "nbformat_minor": 4
}
